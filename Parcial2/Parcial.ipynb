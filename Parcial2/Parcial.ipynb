{
 "cells": [
  {
   "cell_type": "code",
   "execution_count": 55,
   "metadata": {},
   "outputs": [],
   "source": [
    "import numpy as np\n",
    "import sympy as sym\n",
    "import matplotlib.pyplot as plt\n",
    "import math\n",
    "from sympy import integrate, init_printing"
   ]
  },
  {
   "cell_type": "code",
   "execution_count": 56,
   "metadata": {},
   "outputs": [],
   "source": [
    "h = 6.626 * 10**(-34)\n",
    "k =  1.3806 * 10**(-23)\n",
    "c = 3 * 10**8\n",
    "t = 5772\n",
    "n = 20\n",
    "l0 = 100*10**(-9)\n",
    "l1 = 400*10**(-9)\n",
    "\n",
    "Roots,Weights = np.polynomial.legendre.leggauss(n)"
   ]
  },
  {
   "cell_type": "code",
   "execution_count": 57,
   "metadata": {},
   "outputs": [
    {
     "name": "stdout",
     "output_type": "stream",
     "text": [
      "0.7886360406075117\n"
     ]
    }
   ],
   "source": [
    "# punto a\n",
    "\n",
    "n = 20\n",
    "v1 = c/l1\n",
    "v0= c/l0\n",
    "f = lambda x: x**3/((np.e**x) - 1)\n",
    "\n",
    "def Integral(f, n, b, a):\n",
    "    raices = Roots\n",
    "    pesos = Weights\n",
    "    I = 0\n",
    "    for i in range(n):\n",
    "        I += pesos[i]*f(raices[i]*(b-a)/2 + (b+a)/2)\n",
    "    I = I*(b-a)/2\n",
    "    return I\n",
    "\n",
    "b = (h*v1)/(k*t)\n",
    "a = (h*v0)/(k*t)\n",
    "integral_1 = Integral(f, n, a, b)\n",
    "print(integral_1)"
   ]
  },
  {
   "cell_type": "code",
   "execution_count": 58,
   "metadata": {},
   "outputs": [
    {
     "name": "stdout",
     "output_type": "stream",
     "text": [
      "6.493939402219591\n"
     ]
    }
   ],
   "source": [
    "# punto b\n",
    "\n",
    "Roots,Weights = np.polynomial.laguerre.laggauss(n)\n",
    "\n",
    "f = lambda x: (x**3/(np.e**x - 1))/np.e**(-x)\n",
    "pesos = Weights\n",
    "raices = Roots\n",
    "I = 0\n",
    "for i in range(n):\n",
    "    I += pesos[i]*f(raices[i])\n",
    "\n",
    "integral2 = I\n",
    "print(I)"
   ]
  },
  {
   "cell_type": "code",
   "execution_count": 59,
   "metadata": {},
   "outputs": [
    {
     "name": "stdout",
     "output_type": "stream",
     "text": [
      "Los límites de integración son 6.2361780093201205, 24.944712037280482\n"
     ]
    }
   ],
   "source": [
    "# punto c\n",
    "\n",
    "b = (h*v1)/(k*t)\n",
    "a = (h*v0)/(k*t)\n",
    "\n",
    "print(f\"Los límites de integración son {b}, {a}\")"
   ]
  },
  {
   "cell_type": "code",
   "execution_count": 60,
   "metadata": {},
   "outputs": [
    {
     "name": "stdout",
     "output_type": "stream",
     "text": [
      "0.12144185397510183\n"
     ]
    }
   ],
   "source": [
    "#punto d\n",
    "\n",
    "f = integral_1/integral2\n",
    "print(f)"
   ]
  },
  {
   "cell_type": "markdown",
   "metadata": {},
   "source": [
    "Punto e:\n",
    "\n",
    "La razón por la cual los datos de luz ultravioleta difieren es que nosotros acá estamos calculando el porcentaje de luz ultravioleta que emite el sol, mientras que la página del IDEAM Bogotá-UV da el dato de la cantidad de luz ultravioleta que nos llega a la tierra. \n",
    "\n",
    "Estos datos son distintos porque la atmósfera dispersa un porcentaje de la luz que emite el sol y por eso no nos llega toda la luz ultravioleta. "
   ]
  },
  {
   "cell_type": "markdown",
   "metadata": {},
   "source": [
    "TEÓRICO:"
   ]
  },
  {
   "cell_type": "code",
   "execution_count": 61,
   "metadata": {},
   "outputs": [
    {
     "name": "stdout",
     "output_type": "stream",
     "text": [
      "x**2/2 - 2*x + 1\n"
     ]
    }
   ],
   "source": [
    "# punto a \n",
    "\n",
    "x = sym.Symbol('x',real=True)\n",
    "y = sym.Symbol('y',real=True)\n",
    "n = 2\n",
    "\n",
    "def GetLaguerre(n,x,y):\n",
    "\n",
    "    y = sym.exp(-x)*x**n\n",
    "    \n",
    "    poly = sym.exp(x)*sym.diff(y,x,n)/( math.factorial(n) )\n",
    "    \n",
    "    return poly\n",
    "\n",
    "L2 = GetLaguerre(n, x, y)\n",
    "print(L2)"
   ]
  },
  {
   "cell_type": "markdown",
   "metadata": {},
   "source": [
    "Punto b y c están en otro archivo teórico"
   ]
  },
  {
   "cell_type": "code",
   "execution_count": 70,
   "metadata": {},
   "outputs": [
    {
     "name": "stdout",
     "output_type": "stream",
     "text": [
      "6.000000000000001\n"
     ]
    }
   ],
   "source": [
    "# punto d\n",
    "# una parte está en teórico la otra está acá\n",
    "\n",
    "w1 = (np.sqrt(2) - 1)/(2**(3/2))\n",
    "x1 = 2 + np.sqrt(2)\n",
    "w2 = (np.sqrt(2) + 1)/(2**(3/2))\n",
    "x2 = 2 - np.sqrt(2)\n",
    "L2_ = lambda x: x**3\n",
    "suma1 = w1*L2_(x1)\n",
    "suma2 = w2*L2_(x2)\n",
    "\n",
    "suma = suma1 + suma2\n",
    "print(suma)"
   ]
  }
 ],
 "metadata": {
  "kernelspec": {
   "display_name": "Python 3",
   "language": "python",
   "name": "python3"
  },
  "language_info": {
   "codemirror_mode": {
    "name": "ipython",
    "version": 3
   },
   "file_extension": ".py",
   "mimetype": "text/x-python",
   "name": "python",
   "nbconvert_exporter": "python",
   "pygments_lexer": "ipython3",
   "version": "3.11.4"
  },
  "orig_nbformat": 4
 },
 "nbformat": 4,
 "nbformat_minor": 2
}
