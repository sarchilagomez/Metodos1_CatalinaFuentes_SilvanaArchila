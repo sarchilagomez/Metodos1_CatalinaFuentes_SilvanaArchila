{
 "cells": [
  {
   "cell_type": "code",
   "execution_count": 81,
   "metadata": {},
   "outputs": [],
   "source": [
    "import numpy as np\n",
    "import matplotlib.pyplot as plt\n",
    "from mpl_toolkits.mplot3d import Axes3D"
   ]
  },
  {
   "cell_type": "markdown",
   "metadata": {},
   "source": [
    "Mínimos cuadrados: 1b"
   ]
  },
  {
   "cell_type": "markdown",
   "metadata": {},
   "source": [
    "b)."
   ]
  },
  {
   "cell_type": "code",
   "execution_count": 82,
   "metadata": {},
   "outputs": [],
   "source": [
    "f1 = lambda x,y: 2*x - y -2\n",
    "f2 = lambda x,y: x + 2*y -1\n",
    "f3 = lambda x,y: x + y -4"
   ]
  },
  {
   "cell_type": "code",
   "execution_count": 83,
   "metadata": {},
   "outputs": [
    {
     "name": "stdout",
     "output_type": "stream",
     "text": [
      "El punto encontrado es: (1.4299999999999387, 0.42999999999993793)\n",
      "La menor distancia al problema es: 2.5354683985409867\n"
     ]
    }
   ],
   "source": [
    "termino = False\n",
    "i = -5.\n",
    "j = -5.\n",
    "lista_distancias = {}\n",
    "\n",
    "while not termino:\n",
    "    r1 = f1(i, j)\n",
    "    r2 = f2(i, j)\n",
    "    r3 = f3(i, j)\n",
    "    distancia = np.sqrt(r1**2 + r2**2 + r3**2)\n",
    "    lista_distancias[distancia] = (i, j)\n",
    "    if j < 5:\n",
    "        j += 0.01\n",
    "    else:\n",
    "        i += 0.01\n",
    "        j = -5.\n",
    "    if i > 4.99:\n",
    "            termino = True\n",
    "\n",
    "\n",
    "menor_distancia = 100\n",
    "for distanciaa in lista_distancias:\n",
    "     if distanciaa < menor_distancia:\n",
    "          menor_distancia = distanciaa\n",
    "\n",
    "print(f\"El punto encontrado es: {lista_distancias[menor_distancia]}\")\n",
    "print(f\"La menor distancia al problema es: {menor_distancia}\")"
   ]
  },
  {
   "cell_type": "code",
   "execution_count": null,
   "metadata": {},
   "outputs": [],
   "source": []
  }
 ],
 "metadata": {
  "kernelspec": {
   "display_name": "Python 3",
   "language": "python",
   "name": "python3"
  },
  "language_info": {
   "codemirror_mode": {
    "name": "ipython",
    "version": 3
   },
   "file_extension": ".py",
   "mimetype": "text/x-python",
   "name": "python",
   "nbconvert_exporter": "python",
   "pygments_lexer": "ipython3",
   "version": "3.11.4"
  }
 },
 "nbformat": 4,
 "nbformat_minor": 2
}
