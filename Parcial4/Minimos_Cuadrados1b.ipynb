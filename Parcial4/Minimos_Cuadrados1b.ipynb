{
 "cells": [
  {
   "cell_type": "code",
   "execution_count": 53,
   "metadata": {},
   "outputs": [],
   "source": [
    "import numpy as np"
   ]
  },
  {
   "cell_type": "markdown",
   "metadata": {},
   "source": [
    "Mínimos cuadrados: 1b"
   ]
  },
  {
   "cell_type": "code",
   "execution_count": 54,
   "metadata": {},
   "outputs": [],
   "source": [
    "f1 = lambda x,y: 2*x - y -2\n",
    "f2 = lambda x,y: x + 2*y -1\n",
    "f3 = lambda x,y: x + y -4"
   ]
  },
  {
   "cell_type": "code",
   "execution_count": 56,
   "metadata": {},
   "outputs": [
    {
     "name": "stdout",
     "output_type": "stream",
     "text": [
      "270900 270900 270900\n",
      "186384\n",
      "2.535468398540987 1.1899999999999384 -1.3499999999999994\n"
     ]
    }
   ],
   "source": [
    "error = 5\n",
    "distancia = 100\n",
    "termino = False\n",
    "i = -5.\n",
    "j = -2.\n",
    "lista_distancias = []\n",
    "lista_i = []\n",
    "lista_j = []\n",
    "\n",
    "while not termino:\n",
    "    r1 = f1(i, j)\n",
    "    r2 = f2(i, j)\n",
    "    r3 = f3(i, j)\n",
    "    distancia = np.sqrt(r1**2 + r2**2 + r3**2)\n",
    "    lista_distancias.append(distancia)\n",
    "    lista_i.append(i)\n",
    "    lista_j.append(j)\n",
    "    if j < 1:\n",
    "        j += 0.01\n",
    "    else:\n",
    "        i += 0.01\n",
    "        j = -2.\n",
    "    if i > 3.99:\n",
    "            termino = True\n",
    "\n",
    "print(len(lista_distancias), len(lista_i), len(lista_j))\n",
    "\n",
    "menor = 10\n",
    "indice_aux = 0\n",
    "indice_real = 0\n",
    "for distanciaa in lista_distancias:\n",
    "    if distanciaa < menor:\n",
    "        menor = distanciaa\n",
    "        indice_real += indice_aux\n",
    "        indice_aux = 0\n",
    "    else:\n",
    "        indice_aux += 1\n",
    "print(indice_real)\n",
    "print(menor, lista_i[indice_real], lista_j[indice_real])"
   ]
  }
 ],
 "metadata": {
  "kernelspec": {
   "display_name": "Python 3",
   "language": "python",
   "name": "python3"
  },
  "language_info": {
   "codemirror_mode": {
    "name": "ipython",
    "version": 3
   },
   "file_extension": ".py",
   "mimetype": "text/x-python",
   "name": "python",
   "nbconvert_exporter": "python",
   "pygments_lexer": "ipython3",
   "version": "3.11.4"
  }
 },
 "nbformat": 4,
 "nbformat_minor": 2
}
