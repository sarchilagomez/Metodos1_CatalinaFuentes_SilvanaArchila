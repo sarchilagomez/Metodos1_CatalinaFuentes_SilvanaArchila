{
 "cells": [
  {
   "cell_type": "code",
   "execution_count": 71,
   "metadata": {},
   "outputs": [],
   "source": [
    "import numpy as np\n",
    "import sympy as sym\n",
    "import scipy.optimize as spo"
   ]
  },
  {
   "cell_type": "code",
   "execution_count": 72,
   "metadata": {},
   "outputs": [],
   "source": [
    "def f2(x,y,z):\n",
    "    return x**2 + y**2 +z**2 - 2*z +1"
   ]
  },
  {
   "cell_type": "code",
   "execution_count": 73,
   "metadata": {},
   "outputs": [],
   "source": [
    "Dx = lambda f,x,y,z,h=1e-5: (f(x+h,y,z) - f(x-h,y,z))/(2*h)\n",
    "Dy = lambda f,x,y,z,h=1e-5: (f(x,y+h,z) - f(x,y-h,z))/(2*h)\n",
    "Dz = lambda f,x,y,z,h=1e-5: (f(x,y,z+h) - f(x,y,z-h))/(2*h)"
   ]
  },
  {
   "cell_type": "code",
   "execution_count": 74,
   "metadata": {},
   "outputs": [
    {
     "name": "stdout",
     "output_type": "stream",
     "text": [
      "1/5\n"
     ]
    }
   ],
   "source": [
    "from sympy import symbols, diff, solve, Eq\n",
    "\n",
    "# Definición de variables\n",
    "x, y, z, l = symbols('x y z l')\n",
    "\n",
    "# Funciones f(x, y, z) y g(x, y, z)\n",
    "f = x**2 + y**2 + z**2 - 2*z + 1\n",
    "g = 2*x - 4*y + 5*z\n",
    "\n",
    "# Función F(x, y, z, lambda)\n",
    "F = f - l * (g - 2)\n",
    "\n",
    "# Derivadas parciales de F con respecto a x, y, z y lambda\n",
    "dF_dx = diff(F, x)\n",
    "dF_dy = diff(F, y)\n",
    "dF_dz = diff(F, z)\n",
    "dF_dl = diff(F, l)\n",
    "\n",
    "# Encontrar los puntos críticos (donde las derivadas son cero)\n",
    "critical_points = solve([dF_dx, dF_dy, dF_dz, dF_dl], (x, y, z, l))\n",
    "print(f.subs({x: critical_points[x], y: critical_points[y], z: critical_points[z]}))"
   ]
  },
  {
   "cell_type": "code",
   "execution_count": 75,
   "metadata": {},
   "outputs": [],
   "source": [
    "f = lambda x, y, z: x**2 + y**2 + z**2 - 2*z + 1\n",
    "g = lambda x, y, z: 2*x - 4*y + 5*z\n",
    "def f(x,y,z):\n",
    "    return x**2 + y**2 + z**2 - 2*z + 1"
   ]
  },
  {
   "cell_type": "code",
   "execution_count": 76,
   "metadata": {},
   "outputs": [
    {
     "ename": "TypeError",
     "evalue": "<lambda>() missing 2 required positional arguments: 'y' and 'z'",
     "output_type": "error",
     "traceback": [
      "\u001b[1;31m---------------------------------------------------------------------------\u001b[0m",
      "\u001b[1;31mTypeError\u001b[0m                                 Traceback (most recent call last)",
      "\u001b[1;32mc:\\Users\\silva\\OneDrive\\Documentos\\Universidad\\Tercer_semestre\\Métodos_computacionales\\Parcial_3\\Metodos1_CatalinaFuentes_SilvanaArchila\\Parcial4\\Optimizacion2.ipynb Cell 6\u001b[0m line \u001b[0;36m6\n\u001b[0;32m      <a href='vscode-notebook-cell:/c%3A/Users/silva/OneDrive/Documentos/Universidad/Tercer_semestre/M%C3%A9todos_computacionales/Parcial_3/Metodos1_CatalinaFuentes_SilvanaArchila/Parcial4/Optimizacion2.ipynb#X13sZmlsZQ%3D%3D?line=2'>3</a>\u001b[0m constraints \u001b[39m=\u001b[39m ( {\u001b[39m'\u001b[39m\u001b[39mtype\u001b[39m\u001b[39m'\u001b[39m:\u001b[39m'\u001b[39m\u001b[39meq\u001b[39m\u001b[39m'\u001b[39m,\u001b[39m'\u001b[39m\u001b[39mfun\u001b[39m\u001b[39m'\u001b[39m: \u001b[39mlambda\u001b[39;00m x, y, z: \u001b[39m2\u001b[39m\u001b[39m*\u001b[39mx \u001b[39m-\u001b[39m \u001b[39m4\u001b[39m\u001b[39m*\u001b[39my \u001b[39m+\u001b[39m \u001b[39m5\u001b[39m\u001b[39m*\u001b[39mz} )\n\u001b[0;32m      <a href='vscode-notebook-cell:/c%3A/Users/silva/OneDrive/Documentos/Universidad/Tercer_semestre/M%C3%A9todos_computacionales/Parcial_3/Metodos1_CatalinaFuentes_SilvanaArchila/Parcial4/Optimizacion2.ipynb#X13sZmlsZQ%3D%3D?line=4'>5</a>\u001b[0m p0 \u001b[39m=\u001b[39m [\u001b[39m1\u001b[39m,\u001b[39m1\u001b[39m,\u001b[39m1\u001b[39m]\n\u001b[1;32m----> <a href='vscode-notebook-cell:/c%3A/Users/silva/OneDrive/Documentos/Universidad/Tercer_semestre/M%C3%A9todos_computacionales/Parcial_3/Metodos1_CatalinaFuentes_SilvanaArchila/Parcial4/Optimizacion2.ipynb#X13sZmlsZQ%3D%3D?line=5'>6</a>\u001b[0m result \u001b[39m=\u001b[39m spo\u001b[39m.\u001b[39;49mminimize( f, p0, args\u001b[39m=\u001b[39;49m(\u001b[39m-\u001b[39;49m\u001b[39m1\u001b[39;49m,\u001b[39m1\u001b[39;49m), constraints \u001b[39m=\u001b[39;49m constraints )\n\u001b[0;32m      <a href='vscode-notebook-cell:/c%3A/Users/silva/OneDrive/Documentos/Universidad/Tercer_semestre/M%C3%A9todos_computacionales/Parcial_3/Metodos1_CatalinaFuentes_SilvanaArchila/Parcial4/Optimizacion2.ipynb#X13sZmlsZQ%3D%3D?line=6'>7</a>\u001b[0m result\n",
      "File \u001b[1;32mc:\\Users\\silva\\AppData\\Local\\Programs\\Python\\Python311\\Lib\\site-packages\\scipy\\optimize\\_minimize.py:719\u001b[0m, in \u001b[0;36mminimize\u001b[1;34m(fun, x0, args, method, jac, hess, hessp, bounds, constraints, tol, callback, options)\u001b[0m\n\u001b[0;32m    716\u001b[0m     res \u001b[39m=\u001b[39m _minimize_cobyla(fun, x0, args, constraints, callback\u001b[39m=\u001b[39mcallback,\n\u001b[0;32m    717\u001b[0m                            bounds\u001b[39m=\u001b[39mbounds, \u001b[39m*\u001b[39m\u001b[39m*\u001b[39moptions)\n\u001b[0;32m    718\u001b[0m \u001b[39melif\u001b[39;00m meth \u001b[39m==\u001b[39m \u001b[39m'\u001b[39m\u001b[39mslsqp\u001b[39m\u001b[39m'\u001b[39m:\n\u001b[1;32m--> 719\u001b[0m     res \u001b[39m=\u001b[39m _minimize_slsqp(fun, x0, args, jac, bounds,\n\u001b[0;32m    720\u001b[0m                           constraints, callback\u001b[39m=\u001b[39;49mcallback, \u001b[39m*\u001b[39;49m\u001b[39m*\u001b[39;49moptions)\n\u001b[0;32m    721\u001b[0m \u001b[39melif\u001b[39;00m meth \u001b[39m==\u001b[39m \u001b[39m'\u001b[39m\u001b[39mtrust-constr\u001b[39m\u001b[39m'\u001b[39m:\n\u001b[0;32m    722\u001b[0m     res \u001b[39m=\u001b[39m _minimize_trustregion_constr(fun, x0, args, jac, hess, hessp,\n\u001b[0;32m    723\u001b[0m                                        bounds, constraints,\n\u001b[0;32m    724\u001b[0m                                        callback\u001b[39m=\u001b[39mcallback, \u001b[39m*\u001b[39m\u001b[39m*\u001b[39moptions)\n",
      "File \u001b[1;32mc:\\Users\\silva\\AppData\\Local\\Programs\\Python\\Python311\\Lib\\site-packages\\scipy\\optimize\\_slsqp_py.py:327\u001b[0m, in \u001b[0;36m_minimize_slsqp\u001b[1;34m(func, x0, args, jac, bounds, constraints, maxiter, ftol, iprint, disp, eps, callback, finite_diff_rel_step, **unknown_options)\u001b[0m\n\u001b[0;32m    313\u001b[0m exit_modes \u001b[39m=\u001b[39m {\u001b[39m-\u001b[39m\u001b[39m1\u001b[39m: \u001b[39m\"\u001b[39m\u001b[39mGradient evaluation required (g & a)\u001b[39m\u001b[39m\"\u001b[39m,\n\u001b[0;32m    314\u001b[0m                \u001b[39m0\u001b[39m: \u001b[39m\"\u001b[39m\u001b[39mOptimization terminated successfully\u001b[39m\u001b[39m\"\u001b[39m,\n\u001b[0;32m    315\u001b[0m                \u001b[39m1\u001b[39m: \u001b[39m\"\u001b[39m\u001b[39mFunction evaluation required (f & c)\u001b[39m\u001b[39m\"\u001b[39m,\n\u001b[1;32m   (...)\u001b[0m\n\u001b[0;32m    322\u001b[0m                \u001b[39m8\u001b[39m: \u001b[39m\"\u001b[39m\u001b[39mPositive directional derivative for linesearch\u001b[39m\u001b[39m\"\u001b[39m,\n\u001b[0;32m    323\u001b[0m                \u001b[39m9\u001b[39m: \u001b[39m\"\u001b[39m\u001b[39mIteration limit reached\u001b[39m\u001b[39m\"\u001b[39m}\n\u001b[0;32m    325\u001b[0m \u001b[39m# Set the parameters that SLSQP will need\u001b[39;00m\n\u001b[0;32m    326\u001b[0m \u001b[39m# meq, mieq: number of equality and inequality constraints\u001b[39;00m\n\u001b[1;32m--> 327\u001b[0m meq \u001b[39m=\u001b[39m \u001b[39msum\u001b[39m(\u001b[39mmap\u001b[39m(\u001b[39mlen\u001b[39m, [atleast_1d(c[\u001b[39m'\u001b[39;49m\u001b[39mfun\u001b[39;49m\u001b[39m'\u001b[39;49m](x, \u001b[39m*\u001b[39;49mc[\u001b[39m'\u001b[39;49m\u001b[39margs\u001b[39;49m\u001b[39m'\u001b[39;49m]))\n\u001b[0;32m    328\u001b[0m           \u001b[39mfor\u001b[39;49;00m c \u001b[39min\u001b[39;49;00m cons[\u001b[39m'\u001b[39;49m\u001b[39meq\u001b[39;49m\u001b[39m'\u001b[39;49m]]))\n\u001b[0;32m    329\u001b[0m mieq \u001b[39m=\u001b[39m \u001b[39msum\u001b[39m(\u001b[39mmap\u001b[39m(\u001b[39mlen\u001b[39m, [atleast_1d(c[\u001b[39m'\u001b[39m\u001b[39mfun\u001b[39m\u001b[39m'\u001b[39m](x, \u001b[39m*\u001b[39mc[\u001b[39m'\u001b[39m\u001b[39margs\u001b[39m\u001b[39m'\u001b[39m]))\n\u001b[0;32m    330\u001b[0m            \u001b[39mfor\u001b[39;00m c \u001b[39min\u001b[39;00m cons[\u001b[39m'\u001b[39m\u001b[39mineq\u001b[39m\u001b[39m'\u001b[39m]]))\n\u001b[0;32m    331\u001b[0m \u001b[39m# m = The total number of constraints\u001b[39;00m\n",
      "File \u001b[1;32mc:\\Users\\silva\\AppData\\Local\\Programs\\Python\\Python311\\Lib\\site-packages\\scipy\\optimize\\_slsqp_py.py:327\u001b[0m, in \u001b[0;36m<listcomp>\u001b[1;34m(.0)\u001b[0m\n\u001b[0;32m    313\u001b[0m exit_modes \u001b[39m=\u001b[39m {\u001b[39m-\u001b[39m\u001b[39m1\u001b[39m: \u001b[39m\"\u001b[39m\u001b[39mGradient evaluation required (g & a)\u001b[39m\u001b[39m\"\u001b[39m,\n\u001b[0;32m    314\u001b[0m                \u001b[39m0\u001b[39m: \u001b[39m\"\u001b[39m\u001b[39mOptimization terminated successfully\u001b[39m\u001b[39m\"\u001b[39m,\n\u001b[0;32m    315\u001b[0m                \u001b[39m1\u001b[39m: \u001b[39m\"\u001b[39m\u001b[39mFunction evaluation required (f & c)\u001b[39m\u001b[39m\"\u001b[39m,\n\u001b[1;32m   (...)\u001b[0m\n\u001b[0;32m    322\u001b[0m                \u001b[39m8\u001b[39m: \u001b[39m\"\u001b[39m\u001b[39mPositive directional derivative for linesearch\u001b[39m\u001b[39m\"\u001b[39m,\n\u001b[0;32m    323\u001b[0m                \u001b[39m9\u001b[39m: \u001b[39m\"\u001b[39m\u001b[39mIteration limit reached\u001b[39m\u001b[39m\"\u001b[39m}\n\u001b[0;32m    325\u001b[0m \u001b[39m# Set the parameters that SLSQP will need\u001b[39;00m\n\u001b[0;32m    326\u001b[0m \u001b[39m# meq, mieq: number of equality and inequality constraints\u001b[39;00m\n\u001b[1;32m--> 327\u001b[0m meq \u001b[39m=\u001b[39m \u001b[39msum\u001b[39m(\u001b[39mmap\u001b[39m(\u001b[39mlen\u001b[39m, [atleast_1d(c[\u001b[39m'\u001b[39;49m\u001b[39mfun\u001b[39;49m\u001b[39m'\u001b[39;49m](x, \u001b[39m*\u001b[39;49mc[\u001b[39m'\u001b[39;49m\u001b[39margs\u001b[39;49m\u001b[39m'\u001b[39;49m]))\n\u001b[0;32m    328\u001b[0m           \u001b[39mfor\u001b[39;00m c \u001b[39min\u001b[39;00m cons[\u001b[39m'\u001b[39m\u001b[39meq\u001b[39m\u001b[39m'\u001b[39m]]))\n\u001b[0;32m    329\u001b[0m mieq \u001b[39m=\u001b[39m \u001b[39msum\u001b[39m(\u001b[39mmap\u001b[39m(\u001b[39mlen\u001b[39m, [atleast_1d(c[\u001b[39m'\u001b[39m\u001b[39mfun\u001b[39m\u001b[39m'\u001b[39m](x, \u001b[39m*\u001b[39mc[\u001b[39m'\u001b[39m\u001b[39margs\u001b[39m\u001b[39m'\u001b[39m]))\n\u001b[0;32m    330\u001b[0m            \u001b[39mfor\u001b[39;00m c \u001b[39min\u001b[39;00m cons[\u001b[39m'\u001b[39m\u001b[39mineq\u001b[39m\u001b[39m'\u001b[39m]]))\n\u001b[0;32m    331\u001b[0m \u001b[39m# m = The total number of constraints\u001b[39;00m\n",
      "\u001b[1;31mTypeError\u001b[0m: <lambda>() missing 2 required positional arguments: 'y' and 'z'"
     ]
    }
   ],
   "source": [
    "bounds = ( (1,100),(1,100) )\n",
    "\n",
    "constraints = ( {'type':'eq','fun': lambda x, y, z: 2*x - 4*y + 5*z} )\n",
    "\n",
    "p0 = [1,1,1]\n",
    "result = spo.minimize( f, p0, args=(-1,1), constraints = constraints )\n",
    "result"
   ]
  }
 ],
 "metadata": {
  "kernelspec": {
   "display_name": "Python 3",
   "language": "python",
   "name": "python3"
  },
  "language_info": {
   "codemirror_mode": {
    "name": "ipython",
    "version": 3
   },
   "file_extension": ".py",
   "mimetype": "text/x-python",
   "name": "python",
   "nbconvert_exporter": "python",
   "pygments_lexer": "ipython3",
   "version": "3.11.4"
  }
 },
 "nbformat": 4,
 "nbformat_minor": 2
}
