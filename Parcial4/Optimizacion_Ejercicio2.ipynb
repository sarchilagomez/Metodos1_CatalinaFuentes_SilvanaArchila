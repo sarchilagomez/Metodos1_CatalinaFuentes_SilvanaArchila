{
 "cells": [
  {
   "cell_type": "code",
   "execution_count": 31,
   "metadata": {},
   "outputs": [],
   "source": [
    "import numpy as np\n",
    "from tqdm import tqdm"
   ]
  },
  {
   "cell_type": "markdown",
   "metadata": {},
   "source": [
    "Ejercicios Parcial 4 - Catalina Fuentes y Silvana Archila\n",
    "\n",
    "OPTIMIZACIÓN"
   ]
  },
  {
   "cell_type": "markdown",
   "metadata": {},
   "source": [
    "Ejercicio 2\n",
    "\n",
    "Hallar el mínimo de la función dada"
   ]
  },
  {
   "cell_type": "code",
   "execution_count": 32,
   "metadata": {},
   "outputs": [
    {
     "name": "stderr",
     "output_type": "stream",
     "text": [
      "100%|██████████| 1000/1000 [00:00<00:00, 5000.08it/s]"
     ]
    },
    {
     "name": "stdout",
     "output_type": "stream",
     "text": [
      "El valor mínimo de la función es 0.2\n"
     ]
    },
    {
     "name": "stderr",
     "output_type": "stream",
     "text": [
      "\n"
     ]
    }
   ],
   "source": [
    "#Establezco la función objetivo\n",
    "def f(x, y, z):\n",
    "    return x**2 + y**2 + z**2 - 2 * z + 1\n",
    "\n",
    "#Hallo el gradiente de f\n",
    "def gradiente_f(x, y, z):\n",
    "    df_dx = 2 * x\n",
    "    df_dy = 2 * y\n",
    "    df_dz = 2 * z - 2\n",
    "    return df_dx, df_dy, df_dz\n",
    "\n",
    "#Establezco la restricción g\n",
    "def restriccion(x, y, z):\n",
    "    return 2 * x - 4 * y + 5 * z - 2\n",
    "\n",
    "#Hallo el gradiente de g\n",
    "def gradiente_g(x, y, z):\n",
    "    dg_dx = 2\n",
    "    dg_dy = -4\n",
    "    dg_z = 5\n",
    "    return dg_dx, dg_dy, dg_z\n",
    "\n",
    "#Parámetros\n",
    "N = 1000\n",
    "gamma = 0.01 \n",
    "x, y, z = 0.5, 0.1, 0.0\n",
    "\n",
    "#Hago el método de minimización\n",
    "for i in tqdm(range(N)):\n",
    "    grad_f = np.array(gradiente_f(x, y, z))\n",
    "    grad_g = np.array(gradiente_g(x, y, z))\n",
    "    \n",
    "    x -= gamma * (grad_f[0] - grad_g[0] * restriccion(x, y, z) / (np.linalg.norm(grad_g) ** 2))\n",
    "    y -= gamma * (grad_f[1] - grad_g[1] * restriccion(x, y, z) / (np.linalg.norm(grad_g) ** 2))\n",
    "    z -= gamma * (grad_f[2] - grad_g[2] * restriccion(x, y, z) / (np.linalg.norm(grad_g) ** 2))\n",
    "    \n",
    "    if np.linalg.norm(grad_f) < 1e-6:\n",
    "        break\n",
    "\n",
    "minimo = f(x, y, z)\n",
    "minimo = round(minimo,4)\n",
    "\n",
    "print(\"El valor mínimo de la función es\", minimo)\n"
   ]
  }
 ],
 "metadata": {
  "kernelspec": {
   "display_name": "Python 3",
   "language": "python",
   "name": "python3"
  },
  "language_info": {
   "codemirror_mode": {
    "name": "ipython",
    "version": 3
   },
   "file_extension": ".py",
   "mimetype": "text/x-python",
   "name": "python",
   "nbconvert_exporter": "python",
   "pygments_lexer": "ipython3",
   "version": "3.11.4"
  }
 },
 "nbformat": 4,
 "nbformat_minor": 2
}
