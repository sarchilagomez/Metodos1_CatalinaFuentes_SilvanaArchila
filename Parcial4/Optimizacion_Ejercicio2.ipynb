{
 "cells": [
  {
   "cell_type": "code",
   "execution_count": null,
   "metadata": {},
   "outputs": [],
   "source": [
    "import numpy as np"
   ]
  },
  {
   "cell_type": "markdown",
   "metadata": {},
   "source": [
    "Ejercicios Parcial 4 - Catalina Fuentes y Silvana Archila\n",
    "\n",
    "OPTIMIZACIÓN"
   ]
  },
  {
   "cell_type": "markdown",
   "metadata": {},
   "source": [
    "Ejercicio 2"
   ]
  },
  {
   "cell_type": "code",
   "execution_count": 1,
   "metadata": {},
   "outputs": [
    {
     "name": "stdout",
     "output_type": "stream",
     "text": [
      "Valor mínimo de la función: 0.555555555555787\n",
      "Valores de x, y, z que minimizan la función: x=-0.22222206188274216, y=0.4444441237654843, z=0.44444412376548426\n"
     ]
    }
   ],
   "source": [
    "import numpy as np\n",
    "\n",
    "# Definir la función objetivo f(x, y, z)\n",
    "def f(x, y, z):\n",
    "    return x**2 + y**2 + z**2 - 2*z + 1\n",
    "\n",
    "# Definir el gradiente de f(x, y, z)\n",
    "def gradient_f(x, y, z):\n",
    "    df_dx = 2 * x\n",
    "    df_dy = 2 * y\n",
    "    df_dz = 2 * z - 2\n",
    "    return np.array([df_dx, df_dy, df_dz])\n",
    "\n",
    "# Definir la restricción g(x, y, z)\n",
    "def g(x, y, z):\n",
    "    return 2 * x - 4 * y + 5 * z - 2\n",
    "\n",
    "# Definir el gradiente de g(x, y, z)\n",
    "def gradient_g(x, y, z):\n",
    "    dg_dx = 2\n",
    "    dg_dy = -4\n",
    "    dg_dz = 5\n",
    "    return np.array([dg_dx, dg_dy, dg_dz])\n",
    "\n",
    "# Parámetros del gradiente descendente\n",
    "learning_rate = 0.01\n",
    "max_iterations = 1000\n",
    "tolerance = 1e-6\n",
    "\n",
    "# Valor inicial\n",
    "x = np.array([0.0, 0.0, 0.0])\n",
    "\n",
    "# Iteraciones del gradiente descendente\n",
    "for i in range(max_iterations):\n",
    "    gradient = gradient_f(*x) - np.dot(gradient_f(*x), gradient_g(*x)) / np.dot(gradient_g(*x), gradient_g(*x)) * gradient_g(*x)\n",
    "    x = x - learning_rate * gradient\n",
    "    if np.linalg.norm(gradient) < tolerance:\n",
    "        break\n",
    "\n",
    "# Resultado\n",
    "x_min, y_min, z_min = x\n",
    "min_value = f(x_min, y_min, z_min)\n",
    "print(f'Valor mínimo de la función: {min_value}')\n",
    "print(f'Valores de x, y, z que minimizan la función: x={x_min}, y={y_min}, z={z_min}')\n"
   ]
  },
  {
   "cell_type": "code",
   "execution_count": 2,
   "metadata": {},
   "outputs": [
    {
     "name": "stdout",
     "output_type": "stream",
     "text": [
      "Valor mínimo de la función: 0.19999999998923168\n",
      "Valores de x, y, z que minimizan la función: x=-0.1333333427739364, y=0.26666665410996016, z=0.6666666604136957\n"
     ]
    }
   ],
   "source": [
    "import numpy as np\n",
    "from scipy.optimize import minimize\n",
    "\n",
    "# Define la función objetivo f(x, y, z)\n",
    "def objective_function(variables):\n",
    "    x, y, z = variables\n",
    "    return x**2 + y**2 + z**2 - 2*z + 1\n",
    "\n",
    "# Define la restricción g(x, y, z) = 2x - 4y + 5z - 2\n",
    "def constraint(variables):\n",
    "    x, y, z = variables\n",
    "    return 2*x - 4*y + 5*z - 2\n",
    "\n",
    "# Valores iniciales para las variables\n",
    "initial_guess = [0.0, 0.0, 0.0]\n",
    "\n",
    "# Define el objeto de restricción\n",
    "constraints = {'type': 'eq', 'fun': constraint}\n",
    "\n",
    "# Resuelve el problema de optimización con restricciones\n",
    "result = minimize(objective_function, initial_guess, constraints=constraints)\n",
    "\n",
    "# Imprime el resultado\n",
    "if result.success:\n",
    "    x_min, y_min, z_min = result.x\n",
    "    min_value = result.fun\n",
    "    print(f'Valor mínimo de la función: {min_value}')\n",
    "    print(f'Valores de x, y, z que minimizan la función: x={x_min}, y={y_min}, z={z_min}')\n",
    "else:\n",
    "    print('No se encontró una solución óptima.')\n"
   ]
  }
 ],
 "metadata": {
  "kernelspec": {
   "display_name": "Python 3",
   "language": "python",
   "name": "python3"
  },
  "language_info": {
   "codemirror_mode": {
    "name": "ipython",
    "version": 3
   },
   "file_extension": ".py",
   "mimetype": "text/x-python",
   "name": "python",
   "nbconvert_exporter": "python",
   "pygments_lexer": "ipython3",
   "version": "3.11.4"
  }
 },
 "nbformat": 4,
 "nbformat_minor": 2
}
