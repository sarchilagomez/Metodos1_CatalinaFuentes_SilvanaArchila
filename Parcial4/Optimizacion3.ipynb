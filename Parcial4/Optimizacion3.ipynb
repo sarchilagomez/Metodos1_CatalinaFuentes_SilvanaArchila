{
 "cells": [
  {
   "cell_type": "code",
   "execution_count": 18,
   "metadata": {},
   "outputs": [],
   "source": [
    "from scipy.optimize import minimize"
   ]
  },
  {
   "cell_type": "markdown",
   "metadata": {},
   "source": [
    "Optimización: 3"
   ]
  },
  {
   "cell_type": "markdown",
   "metadata": {},
   "source": [
    "c)."
   ]
  },
  {
   "cell_type": "code",
   "execution_count": 19,
   "metadata": {},
   "outputs": [],
   "source": [
    "def volumen(xyz):\n",
    "    x, y, z = xyz\n",
    "    return -x*y*z \n",
    "# Acá debemos multiplicar por -1 porque estamos usando la función minimize pero estamos intentando maximizar el volumen. \n",
    "\n",
    "def area_superficial(xyz):\n",
    "    x, y, z = xyz\n",
    "    return x*y + 2*y*z + 2*x*z"
   ]
  },
  {
   "cell_type": "code",
   "execution_count": 20,
   "metadata": {},
   "outputs": [
    {
     "name": "stdout",
     "output_type": "stream",
     "text": [
      "El volumen máximo de la caja es de 4.000000340488772cm^3\n"
     ]
    }
   ],
   "source": [
    "constraint = {'type': 'eq', 'fun': lambda xyz: area_superficial(xyz) - 12}\n",
    "x0 = [1, 1, 1]\n",
    "volumen_maximo = -minimize(volumen, x0, constraints=constraint, method='SLSQP').fun\n",
    "\n",
    "print(f\"El volumen máximo de la caja es de {volumen_maximo}cm^3\")"
   ]
  },
  {
   "cell_type": "markdown",
   "metadata": {},
   "source": [
    "d). El volumen máximo que podría almacenar el usuario en este producto es de 4cm^3"
   ]
  }
 ],
 "metadata": {
  "kernelspec": {
   "display_name": "Python 3",
   "language": "python",
   "name": "python3"
  },
  "language_info": {
   "codemirror_mode": {
    "name": "ipython",
    "version": 3
   },
   "file_extension": ".py",
   "mimetype": "text/x-python",
   "name": "python",
   "nbconvert_exporter": "python",
   "pygments_lexer": "ipython3",
   "version": "3.11.4"
  }
 },
 "nbformat": 4,
 "nbformat_minor": 2
}
