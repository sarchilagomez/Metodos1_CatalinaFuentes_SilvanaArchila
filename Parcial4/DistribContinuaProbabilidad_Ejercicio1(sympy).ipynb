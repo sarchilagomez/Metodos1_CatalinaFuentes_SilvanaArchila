{
 "cells": [
  {
   "cell_type": "code",
   "execution_count": 8,
   "metadata": {},
   "outputs": [],
   "source": [
    "import sympy as sym\n",
    "import numpy as np\n",
    "import matplotlib.pyplot as plt"
   ]
  },
  {
   "cell_type": "markdown",
   "metadata": {},
   "source": [
    "Ejercicios Parcial 4 - Catalina Fuentes y Silvana Archila\n",
    "\n",
    "DISTRIBUCIONES CONTÍNUAS DE PROBABILIDAD"
   ]
  },
  {
   "cell_type": "markdown",
   "metadata": {},
   "source": [
    "Ejercicio 1 (Parte con Sympy)"
   ]
  },
  {
   "cell_type": "code",
   "execution_count": 9,
   "metadata": {},
   "outputs": [
    {
     "name": "stdout",
     "output_type": "stream",
     "text": [
      "La función dada sí es una función de densidad conjunta válida, pues:\n",
      "Integral = 1.00000000000000\n"
     ]
    }
   ],
   "source": [
    "# PUNTO A\n",
    "x = sym.Symbol(\"x\", real = True)\n",
    "y = sym.Symbol(\"y\", real = True)\n",
    "\n",
    "#Defino la función, pero recordando que solo puedo evaluarla en el intervalo dado.\n",
    "func = (2/3)*(x+2*y)\n",
    "\n",
    "#Reviso si la integral en los límites dados es igual a 1 (en cuyo caso sí es función de densidad)\n",
    "integral1 = sym.integrate(func, (x,0,1)) #integral con respecto a x\n",
    "integral2 = sym.integrate(integral1,(y,0,1)) #integral con respecto a Y\n",
    "\n",
    "print(\"La función dada sí es una función de densidad conjunta válida, pues:\")\n",
    "print(\"Integral =\", integral2)"
   ]
  },
  {
   "cell_type": "code",
   "execution_count": 12,
   "metadata": {},
   "outputs": [
    {
     "name": "stdout",
     "output_type": "stream",
     "text": [
      "g(x)= 0.666666666666667*x + 0.666666666666667\n",
      "h(y)= 1.33333333333333*y + 0.333333333333333\n"
     ]
    }
   ],
   "source": [
    "# PUNTO B\n",
    "g = sym.integrate(func,(y,0,1))\n",
    "h = sym.integrate(func,(x,0,1))\n",
    "\n",
    "print(\"g(x)=\", g)\n",
    "print(\"h(y)=\", h)"
   ]
  },
  {
   "cell_type": "code",
   "execution_count": 13,
   "metadata": {},
   "outputs": [
    {
     "name": "stdout",
     "output_type": "stream",
     "text": [
      "E(x) = 0.555555555555556\n"
     ]
    }
   ],
   "source": [
    "# PUNTO C\n",
    "Ex = sym.integrate(x*g,(x,0,1))\n",
    "print(\"E(x) =\",Ex)"
   ]
  },
  {
   "cell_type": "code",
   "execution_count": 14,
   "metadata": {},
   "outputs": [
    {
     "name": "stdout",
     "output_type": "stream",
     "text": [
      "E(y) = 0.611111111111111\n"
     ]
    }
   ],
   "source": [
    "# PUNTO D\n",
    "Ey = sym.integrate(y*h,(y,0,1))\n",
    "print(\"E(y) =\",Ey)"
   ]
  },
  {
   "cell_type": "code",
   "execution_count": 18,
   "metadata": {},
   "outputs": [
    {
     "name": "stdout",
     "output_type": "stream",
     "text": [
      "La covarianza usando la primera fórmula es: \n",
      " Covarianza A = -0.00617283950617281\n"
     ]
    }
   ],
   "source": [
    "# PUNTO E\n",
    "#Necesito primero hallar Exy\n",
    "IntInterna = sym.integrate(x*func,(x,0,1))\n",
    "Exy = sym.integrate(y*IntInterna,(y,0,1))\n",
    "\n",
    "CovarianzaA = Exy - (Ex*Ey)\n",
    "\n",
    "print(\"La covarianza usando la primera fórmula es: \\n Covarianza A =\", CovarianzaA)\n"
   ]
  },
  {
   "cell_type": "code",
   "execution_count": 20,
   "metadata": {},
   "outputs": [
    {
     "name": "stdout",
     "output_type": "stream",
     "text": [
      "La covarianza usando la segunda fórmula es: \n",
      " Covarianza B = -0.00617283950617284\n"
     ]
    }
   ],
   "source": [
    "# PUNTO F\n",
    "IntInterna = sym.integrate((x-Ex)*func,(x,0,1)) \n",
    "CovarianzaB=sym.integrate(IntInterna*(y-Ey),(y,0,1))\n",
    "\n",
    "print(\"La covarianza usando la segunda fórmula es: \\n Covarianza B =\", CovarianzaB)\n"
   ]
  },
  {
   "cell_type": "code",
   "execution_count": 22,
   "metadata": {},
   "outputs": [
    {
     "name": "stdout",
     "output_type": "stream",
     "text": [
      "Las variables X y Y NO son linealmente independientes, pues tienen una covarianza distinta de 0\n"
     ]
    }
   ],
   "source": [
    "#PUNTO G\n",
    "print(\"Las variables X y Y NO son linealmente independientes, pues tienen una covarianza distinta de 0\")\n"
   ]
  }
 ],
 "metadata": {
  "kernelspec": {
   "display_name": "Python 3",
   "language": "python",
   "name": "python3"
  },
  "language_info": {
   "codemirror_mode": {
    "name": "ipython",
    "version": 3
   },
   "file_extension": ".py",
   "mimetype": "text/x-python",
   "name": "python",
   "nbconvert_exporter": "python",
   "pygments_lexer": "ipython3",
   "version": "3.11.4"
  },
  "orig_nbformat": 4
 },
 "nbformat": 4,
 "nbformat_minor": 2
}
