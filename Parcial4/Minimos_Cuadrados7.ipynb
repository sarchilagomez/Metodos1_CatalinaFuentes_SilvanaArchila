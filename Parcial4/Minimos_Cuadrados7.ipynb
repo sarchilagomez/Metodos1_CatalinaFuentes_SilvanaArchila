{
 "cells": [
  {
   "cell_type": "code",
   "execution_count": 31,
   "metadata": {},
   "outputs": [],
   "source": [
    "import numpy as np"
   ]
  },
  {
   "cell_type": "markdown",
   "metadata": {},
   "source": [
    "Mínimos cuadrados: 7"
   ]
  },
  {
   "cell_type": "markdown",
   "metadata": {},
   "source": [
    "a)."
   ]
  },
  {
   "cell_type": "code",
   "execution_count": 32,
   "metadata": {},
   "outputs": [],
   "source": [
    "b = np.array([-3., -3., 8., 9.])\n",
    "u1 = np.array([3., 1., 0., 1])\n",
    "u2 = np.array([1., 2., 1., 1])\n",
    "u3 = np.array([-1., 0., 2., -1])\n",
    "A = np.array([[3., 1., -1.],\n",
    "              [1., 2., 0.],\n",
    "              [0., 1., 2.],\n",
    "              [1., 1., -1.]])"
   ]
  },
  {
   "cell_type": "code",
   "execution_count": 33,
   "metadata": {},
   "outputs": [
    {
     "data": {
      "text/plain": [
       "array([-1.,  2.,  1.])"
      ]
     },
     "execution_count": 33,
     "metadata": {},
     "output_type": "execute_result"
    }
   ],
   "source": [
    "AT = np.dot(A.T,A)\n",
    "bT = np.dot(A.T,b)\n",
    "\n",
    "xsol = np.linalg.solve(AT,bT)\n",
    "xsol"
   ]
  },
  {
   "cell_type": "code",
   "execution_count": 34,
   "metadata": {},
   "outputs": [
    {
     "name": "stdout",
     "output_type": "stream",
     "text": [
      "La proyección ortogonal usando mínimos cuadrados es: [-2.  3.  4.  0.]\n"
     ]
    }
   ],
   "source": [
    "pw = np.dot(A, xsol)\n",
    "print(f\"La proyección ortogonal usando mínimos cuadrados es: {pw}\")"
   ]
  },
  {
   "cell_type": "markdown",
   "metadata": {},
   "source": [
    "b)."
   ]
  },
  {
   "cell_type": "code",
   "execution_count": 35,
   "metadata": {},
   "outputs": [],
   "source": [
    "u = np.array([[3., 1., 0., 1], [1., 2., 1., 1], [-1., 0., 2., -1]])"
   ]
  },
  {
   "cell_type": "code",
   "execution_count": 36,
   "metadata": {},
   "outputs": [
    {
     "data": {
      "text/plain": [
       "[array([0.90453403, 0.30151134, 0.        , 0.30151134])]"
      ]
     },
     "execution_count": 36,
     "metadata": {},
     "output_type": "execute_result"
    }
   ],
   "source": [
    "def GrandSchmidt(u):\n",
    "    base_ortogonal = []\n",
    "    sumatoria1 = 0\n",
    "    for i in u[0]:\n",
    "        sumatoria1 += i**2\n",
    "    v1 = u[0]/np.sqrt(sumatoria1)\n",
    "    base_ortogonal.append(v1)\n",
    "\n",
    "    return base_ortogonal\n",
    "\n",
    "GrandSchmidt(u)"
   ]
  }
 ],
 "metadata": {
  "kernelspec": {
   "display_name": "Python 3",
   "language": "python",
   "name": "python3"
  },
  "language_info": {
   "codemirror_mode": {
    "name": "ipython",
    "version": 3
   },
   "file_extension": ".py",
   "mimetype": "text/x-python",
   "name": "python",
   "nbconvert_exporter": "python",
   "pygments_lexer": "ipython3",
   "version": "3.11.4"
  }
 },
 "nbformat": 4,
 "nbformat_minor": 2
}
