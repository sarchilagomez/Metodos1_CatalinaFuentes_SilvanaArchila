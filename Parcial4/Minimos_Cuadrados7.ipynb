{
 "cells": [
  {
   "cell_type": "code",
   "execution_count": 123,
   "metadata": {},
   "outputs": [],
   "source": [
    "import numpy as np"
   ]
  },
  {
   "cell_type": "markdown",
   "metadata": {},
   "source": [
    "Mínimos cuadrados: 7"
   ]
  },
  {
   "cell_type": "markdown",
   "metadata": {},
   "source": [
    "a)."
   ]
  },
  {
   "cell_type": "code",
   "execution_count": 124,
   "metadata": {},
   "outputs": [],
   "source": [
    "b = np.array([-3., -3., 8., 9.])\n",
    "u1 = np.array([3., 1., 0., 1])\n",
    "u2 = np.array([1., 2., 1., 1])\n",
    "u3 = np.array([-1., 0., 2., -1])\n",
    "A = np.array([[3., 1., -1.],\n",
    "              [1., 2., 0.],\n",
    "              [0., 1., 2.],\n",
    "              [1., 1., -1.]])"
   ]
  },
  {
   "cell_type": "code",
   "execution_count": 125,
   "metadata": {},
   "outputs": [
    {
     "data": {
      "text/plain": [
       "array([-1.,  2.,  1.])"
      ]
     },
     "execution_count": 125,
     "metadata": {},
     "output_type": "execute_result"
    }
   ],
   "source": [
    "AT = np.dot(A.T,A)\n",
    "bT = np.dot(A.T,b)\n",
    "\n",
    "xsol = np.linalg.solve(AT,bT)\n",
    "xsol"
   ]
  },
  {
   "cell_type": "code",
   "execution_count": 126,
   "metadata": {},
   "outputs": [
    {
     "name": "stdout",
     "output_type": "stream",
     "text": [
      "La proyección ortogonal usando mínimos cuadrados es: [-2.  3.  4.  0.]\n"
     ]
    }
   ],
   "source": [
    "pw = np.dot(A, xsol)\n",
    "print(f\"La proyección ortogonal usando mínimos cuadrados es: {pw}\")"
   ]
  },
  {
   "cell_type": "markdown",
   "metadata": {},
   "source": [
    "b)."
   ]
  },
  {
   "cell_type": "code",
   "execution_count": 127,
   "metadata": {},
   "outputs": [],
   "source": [
    "u = np.array([[3., 1., 0., 1], [1., 2., 1., 1], [-1., 0., 2., -1]])"
   ]
  },
  {
   "cell_type": "code",
   "execution_count": 128,
   "metadata": {},
   "outputs": [
    {
     "data": {
      "text/plain": [
       "array([[ 0.90453403,  0.30151134,  0.        ,  0.30151134],\n",
       "       [-0.32961713,  0.75341057,  0.51796977,  0.2354408 ],\n",
       "       [ 0.25633581, -0.26982716,  0.78249877, -0.49918025]])"
      ]
     },
     "execution_count": 128,
     "metadata": {},
     "output_type": "execute_result"
    }
   ],
   "source": [
    "def GrandSchmidt(u):\n",
    "    base_ortogonal = []\n",
    "    sumatoria1 = 0\n",
    "    for i in u[0]:\n",
    "        sumatoria1 += i**2\n",
    "    v1 = u[0]/np.sqrt(sumatoria1)\n",
    "    base_ortogonal.append(v1)\n",
    "\n",
    "    for j in range(1,len(u)):\n",
    "        v = u[j]\n",
    "        sumatoria2 = 0\n",
    "        for n in range(j):\n",
    "            termino = (np.dot(v, base_ortogonal[n])/np.dot(base_ortogonal[n], base_ortogonal[n]))*(base_ortogonal[n])\n",
    "            sumatoria2 += termino\n",
    "        uk = v - sumatoria2\n",
    "        sumatoria3 = 0\n",
    "        for i in uk:\n",
    "            sumatoria3 += i**2\n",
    "        uk = uk/np.sqrt(sumatoria3)\n",
    "        base_ortogonal.append(uk)\n",
    "\n",
    "    return np.array(base_ortogonal)\n",
    "\n",
    "GrandSchmidt(u)"
   ]
  },
  {
   "cell_type": "code",
   "execution_count": 129,
   "metadata": {},
   "outputs": [
    {
     "name": "stdout",
     "output_type": "stream",
     "text": [
      "La proyección ortogonal usando Grand-Schmidt es: [-2.  3.  4.  0.]\n"
     ]
    }
   ],
   "source": [
    "base_ortogonal = GrandSchmidt(u)\n",
    "\n",
    "pw = np.array([0., 0., 0., 0.])\n",
    "for i in range(len(base_ortogonal)):\n",
    "    c = np.dot(base_ortogonal[i], b)\n",
    "    pw += c*base_ortogonal[i]\n",
    "\n",
    "pw = np.round(pw, 10)\n",
    "\n",
    "print(f\"La proyección ortogonal usando Grand-Schmidt es: {pw}\")"
   ]
  }
 ],
 "metadata": {
  "kernelspec": {
   "display_name": "Python 3",
   "language": "python",
   "name": "python3"
  },
  "language_info": {
   "codemirror_mode": {
    "name": "ipython",
    "version": 3
   },
   "file_extension": ".py",
   "mimetype": "text/x-python",
   "name": "python",
   "nbconvert_exporter": "python",
   "pygments_lexer": "ipython3",
   "version": "3.11.4"
  }
 },
 "nbformat": 4,
 "nbformat_minor": 2
}
