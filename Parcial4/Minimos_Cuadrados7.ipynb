{
 "cells": [
  {
   "cell_type": "code",
   "execution_count": 18,
   "metadata": {},
   "outputs": [],
   "source": [
    "import numpy as np"
   ]
  },
  {
   "cell_type": "markdown",
   "metadata": {},
   "source": [
    "Mínimos cuadrados: 7"
   ]
  },
  {
   "cell_type": "code",
   "execution_count": 19,
   "metadata": {},
   "outputs": [],
   "source": [
    "b = np.array([-3., -3., 8., 9.])\n",
    "u1 = np.array([3., 1., 0., 1])\n",
    "u2 = np.array([1., 2., 1., 1])\n",
    "u3 = np.array([-1., 0., 2., -1])\n",
    "A = np.array([[3., 1., -1.],\n",
    "              [1., 2., 0.],\n",
    "              [0., 1., 2.],\n",
    "              [1., 1., -1.]])\n"
   ]
  },
  {
   "cell_type": "code",
   "execution_count": 20,
   "metadata": {},
   "outputs": [
    {
     "data": {
      "text/plain": [
       "array([-1.,  2.,  1.])"
      ]
     },
     "execution_count": 20,
     "metadata": {},
     "output_type": "execute_result"
    }
   ],
   "source": [
    "x = np.linalg.lstsq(A, b, rcond=None)[0]\n",
    "x"
   ]
  },
  {
   "cell_type": "code",
   "execution_count": 21,
   "metadata": {},
   "outputs": [],
   "source": [
    "def GetFit(x,y,n=1):\n",
    "    \n",
    "    l = x.shape[0]\n",
    "    b = y\n",
    "    \n",
    "    A = np.ones((l,n+1))\n",
    "    \n",
    "    for i in range(1,n+1):\n",
    "        A[:,i] = x**i\n",
    "        \n",
    "    AT = np.dot(A.T,A)\n",
    "    bT = np.dot(A.T,b)\n",
    "\n",
    "    xsol = np.linalg.solve(AT,bT)\n",
    "    \n",
    "    return xsol"
   ]
  },
  {
   "cell_type": "code",
   "execution_count": 22,
   "metadata": {},
   "outputs": [
    {
     "ename": "ValueError",
     "evalue": "could not broadcast input array from shape (4,3) into shape (4,)",
     "output_type": "error",
     "traceback": [
      "\u001b[1;31m---------------------------------------------------------------------------\u001b[0m",
      "\u001b[1;31mValueError\u001b[0m                                Traceback (most recent call last)",
      "\u001b[1;32mc:\\Users\\silva\\OneDrive\\Documentos\\Universidad\\Tercer_semestre\\Métodos_computacionales\\Parcial_3\\Metodos1_CatalinaFuentes_SilvanaArchila\\Parcial4\\Minimos_Cuadrados7.ipynb Cell 6\u001b[0m line \u001b[0;36m1\n\u001b[1;32m----> <a href='vscode-notebook-cell:/c%3A/Users/silva/OneDrive/Documentos/Universidad/Tercer_semestre/M%C3%A9todos_computacionales/Parcial_3/Metodos1_CatalinaFuentes_SilvanaArchila/Parcial4/Minimos_Cuadrados7.ipynb#W4sZmlsZQ%3D%3D?line=0'>1</a>\u001b[0m GetFit(A, b)\n",
      "\u001b[1;32mc:\\Users\\silva\\OneDrive\\Documentos\\Universidad\\Tercer_semestre\\Métodos_computacionales\\Parcial_3\\Metodos1_CatalinaFuentes_SilvanaArchila\\Parcial4\\Minimos_Cuadrados7.ipynb Cell 6\u001b[0m line \u001b[0;36m9\n\u001b[0;32m      <a href='vscode-notebook-cell:/c%3A/Users/silva/OneDrive/Documentos/Universidad/Tercer_semestre/M%C3%A9todos_computacionales/Parcial_3/Metodos1_CatalinaFuentes_SilvanaArchila/Parcial4/Minimos_Cuadrados7.ipynb#W4sZmlsZQ%3D%3D?line=5'>6</a>\u001b[0m A \u001b[39m=\u001b[39m np\u001b[39m.\u001b[39mones((l,n\u001b[39m+\u001b[39m\u001b[39m1\u001b[39m))\n\u001b[0;32m      <a href='vscode-notebook-cell:/c%3A/Users/silva/OneDrive/Documentos/Universidad/Tercer_semestre/M%C3%A9todos_computacionales/Parcial_3/Metodos1_CatalinaFuentes_SilvanaArchila/Parcial4/Minimos_Cuadrados7.ipynb#W4sZmlsZQ%3D%3D?line=7'>8</a>\u001b[0m \u001b[39mfor\u001b[39;00m i \u001b[39min\u001b[39;00m \u001b[39mrange\u001b[39m(\u001b[39m1\u001b[39m,n\u001b[39m+\u001b[39m\u001b[39m1\u001b[39m):\n\u001b[1;32m----> <a href='vscode-notebook-cell:/c%3A/Users/silva/OneDrive/Documentos/Universidad/Tercer_semestre/M%C3%A9todos_computacionales/Parcial_3/Metodos1_CatalinaFuentes_SilvanaArchila/Parcial4/Minimos_Cuadrados7.ipynb#W4sZmlsZQ%3D%3D?line=8'>9</a>\u001b[0m     A[:,i] \u001b[39m=\u001b[39m x\u001b[39m*\u001b[39m\u001b[39m*\u001b[39mi\n\u001b[0;32m     <a href='vscode-notebook-cell:/c%3A/Users/silva/OneDrive/Documentos/Universidad/Tercer_semestre/M%C3%A9todos_computacionales/Parcial_3/Metodos1_CatalinaFuentes_SilvanaArchila/Parcial4/Minimos_Cuadrados7.ipynb#W4sZmlsZQ%3D%3D?line=10'>11</a>\u001b[0m AT \u001b[39m=\u001b[39m np\u001b[39m.\u001b[39mdot(A\u001b[39m.\u001b[39mT,A)\n\u001b[0;32m     <a href='vscode-notebook-cell:/c%3A/Users/silva/OneDrive/Documentos/Universidad/Tercer_semestre/M%C3%A9todos_computacionales/Parcial_3/Metodos1_CatalinaFuentes_SilvanaArchila/Parcial4/Minimos_Cuadrados7.ipynb#W4sZmlsZQ%3D%3D?line=11'>12</a>\u001b[0m bT \u001b[39m=\u001b[39m np\u001b[39m.\u001b[39mdot(A\u001b[39m.\u001b[39mT,b)\n",
      "\u001b[1;31mValueError\u001b[0m: could not broadcast input array from shape (4,3) into shape (4,)"
     ]
    }
   ],
   "source": [
    "GetFit(A, b)"
   ]
  }
 ],
 "metadata": {
  "kernelspec": {
   "display_name": "Python 3",
   "language": "python",
   "name": "python3"
  },
  "language_info": {
   "codemirror_mode": {
    "name": "ipython",
    "version": 3
   },
   "file_extension": ".py",
   "mimetype": "text/x-python",
   "name": "python",
   "nbconvert_exporter": "python",
   "pygments_lexer": "ipython3",
   "version": "3.11.4"
  }
 },
 "nbformat": 4,
 "nbformat_minor": 2
}
