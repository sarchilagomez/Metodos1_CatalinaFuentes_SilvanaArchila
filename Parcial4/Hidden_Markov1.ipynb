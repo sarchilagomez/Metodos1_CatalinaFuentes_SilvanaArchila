{
 "cells": [
  {
   "cell_type": "code",
   "execution_count": 8,
   "metadata": {},
   "outputs": [],
   "source": [
    "import numpy as np"
   ]
  },
  {
   "cell_type": "markdown",
   "metadata": {},
   "source": [
    "Hidden Markov: 1"
   ]
  },
  {
   "cell_type": "markdown",
   "metadata": {},
   "source": [
    "a)."
   ]
  },
  {
   "cell_type": "code",
   "execution_count": 9,
   "metadata": {},
   "outputs": [],
   "source": [
    "T = np.array([[0.8, 0.2],\n",
    "              [0.2, 0.8]])\n",
    "\n",
    "E = np.array([[0.5, 0.9],\n",
    "              [0.5, 0.1]])\n",
    "\n",
    "pi = np.array([0.2, 0.8])\n",
    "\n",
    "Dict1 = {\"J\": 0, \"B\": 1}\n",
    "Dict2 = {\"C\": 0, \"S\": 1}\n",
    "\n",
    "omega = [\"S\", \"C\", \"C\", \"C\", \"S\", \"C\", \"S\", \"C\"]"
   ]
  },
  {
   "cell_type": "markdown",
   "metadata": {},
   "source": [
    "b)."
   ]
  },
  {
   "cell_type": "code",
   "execution_count": 10,
   "metadata": {},
   "outputs": [
    {
     "name": "stdout",
     "output_type": "stream",
     "text": [
      "[['J', 'J', 'J', 'J', 'J', 'J', 'J', 'J'], ['J', 'J', 'J', 'J', 'J', 'J', 'J', 'B'], ['J', 'J', 'J', 'J', 'J', 'J', 'B', 'J'], ['J', 'J', 'J', 'J', 'J', 'J', 'B', 'B'], ['J', 'J', 'J', 'J', 'J', 'B', 'J', 'J'], ['J', 'J', 'J', 'J', 'J', 'B', 'J', 'B'], ['J', 'J', 'J', 'J', 'J', 'B', 'B', 'J'], ['J', 'J', 'J', 'J', 'J', 'B', 'B', 'B'], ['J', 'J', 'J', 'J', 'B', 'J', 'J', 'J'], ['J', 'J', 'J', 'J', 'B', 'J', 'J', 'B'], ['J', 'J', 'J', 'J', 'B', 'J', 'B', 'J'], ['J', 'J', 'J', 'J', 'B', 'J', 'B', 'B'], ['J', 'J', 'J', 'J', 'B', 'B', 'J', 'J'], ['J', 'J', 'J', 'J', 'B', 'B', 'J', 'B'], ['J', 'J', 'J', 'J', 'B', 'B', 'B', 'J'], ['J', 'J', 'J', 'J', 'B', 'B', 'B', 'B'], ['J', 'J', 'J', 'B', 'J', 'J', 'J', 'J'], ['J', 'J', 'J', 'B', 'J', 'J', 'J', 'B'], ['J', 'J', 'J', 'B', 'J', 'J', 'B', 'J'], ['J', 'J', 'J', 'B', 'J', 'J', 'B', 'B'], ['J', 'J', 'J', 'B', 'J', 'B', 'J', 'J'], ['J', 'J', 'J', 'B', 'J', 'B', 'J', 'B'], ['J', 'J', 'J', 'B', 'J', 'B', 'B', 'J'], ['J', 'J', 'J', 'B', 'J', 'B', 'B', 'B'], ['J', 'J', 'J', 'B', 'B', 'J', 'J', 'J'], ['J', 'J', 'J', 'B', 'B', 'J', 'J', 'B'], ['J', 'J', 'J', 'B', 'B', 'J', 'B', 'J'], ['J', 'J', 'J', 'B', 'B', 'J', 'B', 'B'], ['J', 'J', 'J', 'B', 'B', 'B', 'J', 'J'], ['J', 'J', 'J', 'B', 'B', 'B', 'J', 'B'], ['J', 'J', 'J', 'B', 'B', 'B', 'B', 'J'], ['J', 'J', 'J', 'B', 'B', 'B', 'B', 'B'], ['J', 'J', 'B', 'J', 'J', 'J', 'J', 'J'], ['J', 'J', 'B', 'J', 'J', 'J', 'J', 'B'], ['J', 'J', 'B', 'J', 'J', 'J', 'B', 'J'], ['J', 'J', 'B', 'J', 'J', 'J', 'B', 'B'], ['J', 'J', 'B', 'J', 'J', 'B', 'J', 'J'], ['J', 'J', 'B', 'J', 'J', 'B', 'J', 'B'], ['J', 'J', 'B', 'J', 'J', 'B', 'B', 'J'], ['J', 'J', 'B', 'J', 'J', 'B', 'B', 'B'], ['J', 'J', 'B', 'J', 'B', 'J', 'J', 'J'], ['J', 'J', 'B', 'J', 'B', 'J', 'J', 'B'], ['J', 'J', 'B', 'J', 'B', 'J', 'B', 'J'], ['J', 'J', 'B', 'J', 'B', 'J', 'B', 'B'], ['J', 'J', 'B', 'J', 'B', 'B', 'J', 'J'], ['J', 'J', 'B', 'J', 'B', 'B', 'J', 'B'], ['J', 'J', 'B', 'J', 'B', 'B', 'B', 'J'], ['J', 'J', 'B', 'J', 'B', 'B', 'B', 'B'], ['J', 'J', 'B', 'B', 'J', 'J', 'J', 'J'], ['J', 'J', 'B', 'B', 'J', 'J', 'J', 'B'], ['J', 'J', 'B', 'B', 'J', 'J', 'B', 'J'], ['J', 'J', 'B', 'B', 'J', 'J', 'B', 'B'], ['J', 'J', 'B', 'B', 'J', 'B', 'J', 'J'], ['J', 'J', 'B', 'B', 'J', 'B', 'J', 'B'], ['J', 'J', 'B', 'B', 'J', 'B', 'B', 'J'], ['J', 'J', 'B', 'B', 'J', 'B', 'B', 'B'], ['J', 'J', 'B', 'B', 'B', 'J', 'J', 'J'], ['J', 'J', 'B', 'B', 'B', 'J', 'J', 'B'], ['J', 'J', 'B', 'B', 'B', 'J', 'B', 'J'], ['J', 'J', 'B', 'B', 'B', 'J', 'B', 'B'], ['J', 'J', 'B', 'B', 'B', 'B', 'J', 'J'], ['J', 'J', 'B', 'B', 'B', 'B', 'J', 'B'], ['J', 'J', 'B', 'B', 'B', 'B', 'B', 'J'], ['J', 'J', 'B', 'B', 'B', 'B', 'B', 'B'], ['J', 'B', 'J', 'J', 'J', 'J', 'J', 'J'], ['J', 'B', 'J', 'J', 'J', 'J', 'J', 'B'], ['J', 'B', 'J', 'J', 'J', 'J', 'B', 'J'], ['J', 'B', 'J', 'J', 'J', 'J', 'B', 'B'], ['J', 'B', 'J', 'J', 'J', 'B', 'J', 'J'], ['J', 'B', 'J', 'J', 'J', 'B', 'J', 'B'], ['J', 'B', 'J', 'J', 'J', 'B', 'B', 'J'], ['J', 'B', 'J', 'J', 'J', 'B', 'B', 'B'], ['J', 'B', 'J', 'J', 'B', 'J', 'J', 'J'], ['J', 'B', 'J', 'J', 'B', 'J', 'J', 'B'], ['J', 'B', 'J', 'J', 'B', 'J', 'B', 'J'], ['J', 'B', 'J', 'J', 'B', 'J', 'B', 'B'], ['J', 'B', 'J', 'J', 'B', 'B', 'J', 'J'], ['J', 'B', 'J', 'J', 'B', 'B', 'J', 'B'], ['J', 'B', 'J', 'J', 'B', 'B', 'B', 'J'], ['J', 'B', 'J', 'J', 'B', 'B', 'B', 'B'], ['J', 'B', 'J', 'B', 'J', 'J', 'J', 'J'], ['J', 'B', 'J', 'B', 'J', 'J', 'J', 'B'], ['J', 'B', 'J', 'B', 'J', 'J', 'B', 'J'], ['J', 'B', 'J', 'B', 'J', 'J', 'B', 'B'], ['J', 'B', 'J', 'B', 'J', 'B', 'J', 'J'], ['J', 'B', 'J', 'B', 'J', 'B', 'J', 'B'], ['J', 'B', 'J', 'B', 'J', 'B', 'B', 'J'], ['J', 'B', 'J', 'B', 'J', 'B', 'B', 'B'], ['J', 'B', 'J', 'B', 'B', 'J', 'J', 'J'], ['J', 'B', 'J', 'B', 'B', 'J', 'J', 'B'], ['J', 'B', 'J', 'B', 'B', 'J', 'B', 'J'], ['J', 'B', 'J', 'B', 'B', 'J', 'B', 'B'], ['J', 'B', 'J', 'B', 'B', 'B', 'J', 'J'], ['J', 'B', 'J', 'B', 'B', 'B', 'J', 'B'], ['J', 'B', 'J', 'B', 'B', 'B', 'B', 'J'], ['J', 'B', 'J', 'B', 'B', 'B', 'B', 'B'], ['J', 'B', 'B', 'J', 'J', 'J', 'J', 'J'], ['J', 'B', 'B', 'J', 'J', 'J', 'J', 'B'], ['J', 'B', 'B', 'J', 'J', 'J', 'B', 'J'], ['J', 'B', 'B', 'J', 'J', 'J', 'B', 'B'], ['J', 'B', 'B', 'J', 'J', 'B', 'J', 'J'], ['J', 'B', 'B', 'J', 'J', 'B', 'J', 'B'], ['J', 'B', 'B', 'J', 'J', 'B', 'B', 'J'], ['J', 'B', 'B', 'J', 'J', 'B', 'B', 'B'], ['J', 'B', 'B', 'J', 'B', 'J', 'J', 'J'], ['J', 'B', 'B', 'J', 'B', 'J', 'J', 'B'], ['J', 'B', 'B', 'J', 'B', 'J', 'B', 'J'], ['J', 'B', 'B', 'J', 'B', 'J', 'B', 'B'], ['J', 'B', 'B', 'J', 'B', 'B', 'J', 'J'], ['J', 'B', 'B', 'J', 'B', 'B', 'J', 'B'], ['J', 'B', 'B', 'J', 'B', 'B', 'B', 'J'], ['J', 'B', 'B', 'J', 'B', 'B', 'B', 'B'], ['J', 'B', 'B', 'B', 'J', 'J', 'J', 'J'], ['J', 'B', 'B', 'B', 'J', 'J', 'J', 'B'], ['J', 'B', 'B', 'B', 'J', 'J', 'B', 'J'], ['J', 'B', 'B', 'B', 'J', 'J', 'B', 'B'], ['J', 'B', 'B', 'B', 'J', 'B', 'J', 'J'], ['J', 'B', 'B', 'B', 'J', 'B', 'J', 'B'], ['J', 'B', 'B', 'B', 'J', 'B', 'B', 'J'], ['J', 'B', 'B', 'B', 'J', 'B', 'B', 'B'], ['J', 'B', 'B', 'B', 'B', 'J', 'J', 'J'], ['J', 'B', 'B', 'B', 'B', 'J', 'J', 'B'], ['J', 'B', 'B', 'B', 'B', 'J', 'B', 'J'], ['J', 'B', 'B', 'B', 'B', 'J', 'B', 'B'], ['J', 'B', 'B', 'B', 'B', 'B', 'J', 'J'], ['J', 'B', 'B', 'B', 'B', 'B', 'J', 'B'], ['J', 'B', 'B', 'B', 'B', 'B', 'B', 'J'], ['J', 'B', 'B', 'B', 'B', 'B', 'B', 'B'], ['B', 'J', 'J', 'J', 'J', 'J', 'J', 'J'], ['B', 'J', 'J', 'J', 'J', 'J', 'J', 'B'], ['B', 'J', 'J', 'J', 'J', 'J', 'B', 'J'], ['B', 'J', 'J', 'J', 'J', 'J', 'B', 'B'], ['B', 'J', 'J', 'J', 'J', 'B', 'J', 'J'], ['B', 'J', 'J', 'J', 'J', 'B', 'J', 'B'], ['B', 'J', 'J', 'J', 'J', 'B', 'B', 'J'], ['B', 'J', 'J', 'J', 'J', 'B', 'B', 'B'], ['B', 'J', 'J', 'J', 'B', 'J', 'J', 'J'], ['B', 'J', 'J', 'J', 'B', 'J', 'J', 'B'], ['B', 'J', 'J', 'J', 'B', 'J', 'B', 'J'], ['B', 'J', 'J', 'J', 'B', 'J', 'B', 'B'], ['B', 'J', 'J', 'J', 'B', 'B', 'J', 'J'], ['B', 'J', 'J', 'J', 'B', 'B', 'J', 'B'], ['B', 'J', 'J', 'J', 'B', 'B', 'B', 'J'], ['B', 'J', 'J', 'J', 'B', 'B', 'B', 'B'], ['B', 'J', 'J', 'B', 'J', 'J', 'J', 'J'], ['B', 'J', 'J', 'B', 'J', 'J', 'J', 'B'], ['B', 'J', 'J', 'B', 'J', 'J', 'B', 'J'], ['B', 'J', 'J', 'B', 'J', 'J', 'B', 'B'], ['B', 'J', 'J', 'B', 'J', 'B', 'J', 'J'], ['B', 'J', 'J', 'B', 'J', 'B', 'J', 'B'], ['B', 'J', 'J', 'B', 'J', 'B', 'B', 'J'], ['B', 'J', 'J', 'B', 'J', 'B', 'B', 'B'], ['B', 'J', 'J', 'B', 'B', 'J', 'J', 'J'], ['B', 'J', 'J', 'B', 'B', 'J', 'J', 'B'], ['B', 'J', 'J', 'B', 'B', 'J', 'B', 'J'], ['B', 'J', 'J', 'B', 'B', 'J', 'B', 'B'], ['B', 'J', 'J', 'B', 'B', 'B', 'J', 'J'], ['B', 'J', 'J', 'B', 'B', 'B', 'J', 'B'], ['B', 'J', 'J', 'B', 'B', 'B', 'B', 'J'], ['B', 'J', 'J', 'B', 'B', 'B', 'B', 'B'], ['B', 'J', 'B', 'J', 'J', 'J', 'J', 'J'], ['B', 'J', 'B', 'J', 'J', 'J', 'J', 'B'], ['B', 'J', 'B', 'J', 'J', 'J', 'B', 'J'], ['B', 'J', 'B', 'J', 'J', 'J', 'B', 'B'], ['B', 'J', 'B', 'J', 'J', 'B', 'J', 'J'], ['B', 'J', 'B', 'J', 'J', 'B', 'J', 'B'], ['B', 'J', 'B', 'J', 'J', 'B', 'B', 'J'], ['B', 'J', 'B', 'J', 'J', 'B', 'B', 'B'], ['B', 'J', 'B', 'J', 'B', 'J', 'J', 'J'], ['B', 'J', 'B', 'J', 'B', 'J', 'J', 'B'], ['B', 'J', 'B', 'J', 'B', 'J', 'B', 'J'], ['B', 'J', 'B', 'J', 'B', 'J', 'B', 'B'], ['B', 'J', 'B', 'J', 'B', 'B', 'J', 'J'], ['B', 'J', 'B', 'J', 'B', 'B', 'J', 'B'], ['B', 'J', 'B', 'J', 'B', 'B', 'B', 'J'], ['B', 'J', 'B', 'J', 'B', 'B', 'B', 'B'], ['B', 'J', 'B', 'B', 'J', 'J', 'J', 'J'], ['B', 'J', 'B', 'B', 'J', 'J', 'J', 'B'], ['B', 'J', 'B', 'B', 'J', 'J', 'B', 'J'], ['B', 'J', 'B', 'B', 'J', 'J', 'B', 'B'], ['B', 'J', 'B', 'B', 'J', 'B', 'J', 'J'], ['B', 'J', 'B', 'B', 'J', 'B', 'J', 'B'], ['B', 'J', 'B', 'B', 'J', 'B', 'B', 'J'], ['B', 'J', 'B', 'B', 'J', 'B', 'B', 'B'], ['B', 'J', 'B', 'B', 'B', 'J', 'J', 'J'], ['B', 'J', 'B', 'B', 'B', 'J', 'J', 'B'], ['B', 'J', 'B', 'B', 'B', 'J', 'B', 'J'], ['B', 'J', 'B', 'B', 'B', 'J', 'B', 'B'], ['B', 'J', 'B', 'B', 'B', 'B', 'J', 'J'], ['B', 'J', 'B', 'B', 'B', 'B', 'J', 'B'], ['B', 'J', 'B', 'B', 'B', 'B', 'B', 'J'], ['B', 'J', 'B', 'B', 'B', 'B', 'B', 'B'], ['B', 'B', 'J', 'J', 'J', 'J', 'J', 'J'], ['B', 'B', 'J', 'J', 'J', 'J', 'J', 'B'], ['B', 'B', 'J', 'J', 'J', 'J', 'B', 'J'], ['B', 'B', 'J', 'J', 'J', 'J', 'B', 'B'], ['B', 'B', 'J', 'J', 'J', 'B', 'J', 'J'], ['B', 'B', 'J', 'J', 'J', 'B', 'J', 'B'], ['B', 'B', 'J', 'J', 'J', 'B', 'B', 'J'], ['B', 'B', 'J', 'J', 'J', 'B', 'B', 'B'], ['B', 'B', 'J', 'J', 'B', 'J', 'J', 'J'], ['B', 'B', 'J', 'J', 'B', 'J', 'J', 'B'], ['B', 'B', 'J', 'J', 'B', 'J', 'B', 'J'], ['B', 'B', 'J', 'J', 'B', 'J', 'B', 'B'], ['B', 'B', 'J', 'J', 'B', 'B', 'J', 'J'], ['B', 'B', 'J', 'J', 'B', 'B', 'J', 'B'], ['B', 'B', 'J', 'J', 'B', 'B', 'B', 'J'], ['B', 'B', 'J', 'J', 'B', 'B', 'B', 'B'], ['B', 'B', 'J', 'B', 'J', 'J', 'J', 'J'], ['B', 'B', 'J', 'B', 'J', 'J', 'J', 'B'], ['B', 'B', 'J', 'B', 'J', 'J', 'B', 'J'], ['B', 'B', 'J', 'B', 'J', 'J', 'B', 'B'], ['B', 'B', 'J', 'B', 'J', 'B', 'J', 'J'], ['B', 'B', 'J', 'B', 'J', 'B', 'J', 'B'], ['B', 'B', 'J', 'B', 'J', 'B', 'B', 'J'], ['B', 'B', 'J', 'B', 'J', 'B', 'B', 'B'], ['B', 'B', 'J', 'B', 'B', 'J', 'J', 'J'], ['B', 'B', 'J', 'B', 'B', 'J', 'J', 'B'], ['B', 'B', 'J', 'B', 'B', 'J', 'B', 'J'], ['B', 'B', 'J', 'B', 'B', 'J', 'B', 'B'], ['B', 'B', 'J', 'B', 'B', 'B', 'J', 'J'], ['B', 'B', 'J', 'B', 'B', 'B', 'J', 'B'], ['B', 'B', 'J', 'B', 'B', 'B', 'B', 'J'], ['B', 'B', 'J', 'B', 'B', 'B', 'B', 'B'], ['B', 'B', 'B', 'J', 'J', 'J', 'J', 'J'], ['B', 'B', 'B', 'J', 'J', 'J', 'J', 'B'], ['B', 'B', 'B', 'J', 'J', 'J', 'B', 'J'], ['B', 'B', 'B', 'J', 'J', 'J', 'B', 'B'], ['B', 'B', 'B', 'J', 'J', 'B', 'J', 'J'], ['B', 'B', 'B', 'J', 'J', 'B', 'J', 'B'], ['B', 'B', 'B', 'J', 'J', 'B', 'B', 'J'], ['B', 'B', 'B', 'J', 'J', 'B', 'B', 'B'], ['B', 'B', 'B', 'J', 'B', 'J', 'J', 'J'], ['B', 'B', 'B', 'J', 'B', 'J', 'J', 'B'], ['B', 'B', 'B', 'J', 'B', 'J', 'B', 'J'], ['B', 'B', 'B', 'J', 'B', 'J', 'B', 'B'], ['B', 'B', 'B', 'J', 'B', 'B', 'J', 'J'], ['B', 'B', 'B', 'J', 'B', 'B', 'J', 'B'], ['B', 'B', 'B', 'J', 'B', 'B', 'B', 'J'], ['B', 'B', 'B', 'J', 'B', 'B', 'B', 'B'], ['B', 'B', 'B', 'B', 'J', 'J', 'J', 'J'], ['B', 'B', 'B', 'B', 'J', 'J', 'J', 'B'], ['B', 'B', 'B', 'B', 'J', 'J', 'B', 'J'], ['B', 'B', 'B', 'B', 'J', 'J', 'B', 'B'], ['B', 'B', 'B', 'B', 'J', 'B', 'J', 'J'], ['B', 'B', 'B', 'B', 'J', 'B', 'J', 'B'], ['B', 'B', 'B', 'B', 'J', 'B', 'B', 'J'], ['B', 'B', 'B', 'B', 'J', 'B', 'B', 'B'], ['B', 'B', 'B', 'B', 'B', 'J', 'J', 'J'], ['B', 'B', 'B', 'B', 'B', 'J', 'J', 'B'], ['B', 'B', 'B', 'B', 'B', 'J', 'B', 'J'], ['B', 'B', 'B', 'B', 'B', 'J', 'B', 'B'], ['B', 'B', 'B', 'B', 'B', 'B', 'J', 'J'], ['B', 'B', 'B', 'B', 'B', 'B', 'J', 'B'], ['B', 'B', 'B', 'B', 'B', 'B', 'B', 'J'], ['B', 'B', 'B', 'B', 'B', 'B', 'B', 'B']]\n"
     ]
    }
   ],
   "source": [
    "lista_de_listas = [[]]\n",
    "for i in range(8):\n",
    "    copia = lista_de_listas.copy()\n",
    "    lista_de_listas = []\n",
    "    for lista in copia:\n",
    "        lista1 = lista.copy()\n",
    "        lista2 = lista.copy()\n",
    "        lista1.append(\"J\")\n",
    "        lista2.append(\"B\")\n",
    "        lista_de_listas.append(lista1)\n",
    "        lista_de_listas.append(lista2)\n",
    "\n",
    "print(lista_de_listas)"
   ]
  },
  {
   "cell_type": "code",
   "execution_count": 11,
   "metadata": {},
   "outputs": [],
   "source": [
    "def probabilidad_una_secuencia(secuencia):\n",
    "    P0 = pi[Dict1[secuencia[0]]]\n",
    "    p = 1\n",
    "    for i in range(1, len(secuencia)):\n",
    "        columna = Dict1[secuencia[i-1]]\n",
    "        fila = Dict1[secuencia[i]]\n",
    "        p *= T[fila][columna]\n",
    "    \n",
    "    return P0*p"
   ]
  },
  {
   "cell_type": "code",
   "execution_count": 12,
   "metadata": {},
   "outputs": [
    {
     "name": "stdout",
     "output_type": "stream",
     "text": [
      "La secuencia más probable es: ['B', 'B', 'B', 'B', 'B', 'B', 'B', 'B']\n",
      "Su probabilidad es de: 0.1677721600000001\n"
     ]
    }
   ],
   "source": [
    "mayor = None\n",
    "mayor_probabilidad = 0\n",
    "for lista in lista_de_listas:\n",
    "    p = probabilidad_una_secuencia(lista)\n",
    "    if p > mayor_probabilidad:\n",
    "        mayor_probabilidad = p\n",
    "        mayor = lista\n",
    "\n",
    "print(f\"La secuencia más probable es: {mayor}\")\n",
    "print(f\"Su probabilidad es de: {mayor_probabilidad}\")"
   ]
  }
 ],
 "metadata": {
  "kernelspec": {
   "display_name": "Python 3",
   "language": "python",
   "name": "python3"
  },
  "language_info": {
   "codemirror_mode": {
    "name": "ipython",
    "version": 3
   },
   "file_extension": ".py",
   "mimetype": "text/x-python",
   "name": "python",
   "nbconvert_exporter": "python",
   "pygments_lexer": "ipython3",
   "version": "3.11.4"
  }
 },
 "nbformat": 4,
 "nbformat_minor": 2
}
