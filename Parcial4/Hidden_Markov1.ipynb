{
 "cells": [
  {
   "cell_type": "code",
   "execution_count": 4,
   "metadata": {},
   "outputs": [],
   "source": [
    "import numpy as np"
   ]
  },
  {
   "cell_type": "markdown",
   "metadata": {},
   "source": [
    "Hidden Markov: 1"
   ]
  },
  {
   "cell_type": "code",
   "execution_count": 5,
   "metadata": {},
   "outputs": [],
   "source": [
    "T = np.array([[0.8, 0.2],\n",
    "              [0.2, 0.8]])\n",
    "E = np.array([[0.5, 0.9],\n",
    "              [0.5, 0.1]])\n",
    "pi = np.array([0.2, 0.8])\n",
    "Dict = {0: \"J\", 1: \"B\"}"
   ]
  },
  {
   "cell_type": "code",
   "execution_count": 6,
   "metadata": {},
   "outputs": [],
   "source": [
    "def GetString(Initial,T,N=int(30)):\n",
    "    \n",
    "    tex = \"\"\n",
    "    States = np.array(Initial)\n",
    "    \n",
    "    for i in range(N):\n",
    "        Initial = np.dot(T,Initial)\n",
    "        States = np.vstack((States,Initial))\n",
    "        index = np.where(np.amax(Initial)==Initial)[0]\n",
    "        \n",
    "        word = Dict[index[0]]\n",
    "        tex = tex + word\n",
    "        \n",
    "    return tex,States"
   ]
  },
  {
   "cell_type": "code",
   "execution_count": 7,
   "metadata": {},
   "outputs": [
    {
     "data": {
      "text/plain": [
       "('BBBBBBBBBBBBBBBBBBBBBBBBBBBBBB',\n",
       " array([[0.2       , 0.8       ],\n",
       "        [0.32      , 0.68      ],\n",
       "        [0.392     , 0.608     ],\n",
       "        [0.4352    , 0.5648    ],\n",
       "        [0.46112   , 0.53888   ],\n",
       "        [0.476672  , 0.523328  ],\n",
       "        [0.4860032 , 0.5139968 ],\n",
       "        [0.49160192, 0.50839808],\n",
       "        [0.49496115, 0.50503885],\n",
       "        [0.49697669, 0.50302331],\n",
       "        [0.49818601, 0.50181399],\n",
       "        [0.49891161, 0.50108839],\n",
       "        [0.49934697, 0.50065303],\n",
       "        [0.49960818, 0.50039182],\n",
       "        [0.49976491, 0.50023509],\n",
       "        [0.49985894, 0.50014106],\n",
       "        [0.49991537, 0.50008463],\n",
       "        [0.49994922, 0.50005078],\n",
       "        [0.49996953, 0.50003047],\n",
       "        [0.49998172, 0.50001828],\n",
       "        [0.49998903, 0.50001097],\n",
       "        [0.49999342, 0.50000658],\n",
       "        [0.49999605, 0.50000395],\n",
       "        [0.49999763, 0.50000237],\n",
       "        [0.49999858, 0.50000142],\n",
       "        [0.49999915, 0.50000085],\n",
       "        [0.49999949, 0.50000051],\n",
       "        [0.49999969, 0.50000031],\n",
       "        [0.49999982, 0.50000018],\n",
       "        [0.49999989, 0.50000011],\n",
       "        [0.49999993, 0.50000007]]))"
      ]
     },
     "execution_count": 7,
     "metadata": {},
     "output_type": "execute_result"
    }
   ],
   "source": [
    "GetString(pi, T)"
   ]
  },
  {
   "cell_type": "code",
   "execution_count": null,
   "metadata": {},
   "outputs": [],
   "source": []
  }
 ],
 "metadata": {
  "kernelspec": {
   "display_name": "Python 3",
   "language": "python",
   "name": "python3"
  },
  "language_info": {
   "codemirror_mode": {
    "name": "ipython",
    "version": 3
   },
   "file_extension": ".py",
   "mimetype": "text/x-python",
   "name": "python",
   "nbconvert_exporter": "python",
   "pygments_lexer": "ipython3",
   "version": "3.11.4"
  }
 },
 "nbformat": 4,
 "nbformat_minor": 2
}
