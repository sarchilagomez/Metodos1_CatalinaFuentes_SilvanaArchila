{
 "cells": [
  {
   "cell_type": "code",
   "execution_count": 106,
   "metadata": {},
   "outputs": [],
   "source": [
    "import numpy as np\n",
    "import matplotlib.pyplot as plt\n",
    "from itertools import permutations\n",
    "from itertools import combinations\n",
    "from itertools import combinations_with_replacement"
   ]
  },
  {
   "cell_type": "markdown",
   "metadata": {},
   "source": [
    "Hidden Markov: 1"
   ]
  },
  {
   "cell_type": "markdown",
   "metadata": {},
   "source": [
    "a)."
   ]
  },
  {
   "cell_type": "code",
   "execution_count": 107,
   "metadata": {},
   "outputs": [],
   "source": [
    "T = np.array([[0.8, 0.2],\n",
    "              [0.2, 0.8]])\n",
    "\n",
    "E = np.array([[0.5, 0.9],\n",
    "              [0.5, 0.1]])\n",
    "\n",
    "pi = np.array([0.2, 0.8])\n",
    "\n",
    "Dict1 = {\"J\": 0, \"B\": 1}\n",
    "Dict2 = {\"C\": 0, \"S\": 1}\n",
    "\n",
    "omega = [\"S\", \"C\", \"C\", \"C\", \"S\", \"C\", \"S\", \"C\"]"
   ]
  },
  {
   "cell_type": "markdown",
   "metadata": {},
   "source": [
    "b)."
   ]
  },
  {
   "cell_type": "code",
   "execution_count": 108,
   "metadata": {},
   "outputs": [],
   "source": [
    "lista_de_listas = [[]]\n",
    "for i in range(8):\n",
    "    copia = lista_de_listas.copy()\n",
    "    lista_de_listas = []\n",
    "    for lista in copia:\n",
    "        lista1 = lista.copy()\n",
    "        lista2 = lista.copy()\n",
    "        lista1.append(\"J\")\n",
    "        lista2.append(\"B\")\n",
    "        lista_de_listas.append(lista1)\n",
    "        lista_de_listas.append(lista2)\n",
    "\n",
    "#print(lista_de_listas)"
   ]
  },
  {
   "cell_type": "code",
   "execution_count": 109,
   "metadata": {},
   "outputs": [],
   "source": [
    "def probabilidad_una_secuencia_oculta(secuencia):\n",
    "    P0 = pi[Dict1[secuencia[0]]]\n",
    "    p = 1\n",
    "    for i in range(1, len(secuencia)):\n",
    "        columna = Dict1[secuencia[i-1]]\n",
    "        fila = Dict1[secuencia[i]]\n",
    "        p *= T[fila][columna]\n",
    "    \n",
    "    return P0*p"
   ]
  },
  {
   "cell_type": "code",
   "execution_count": 110,
   "metadata": {},
   "outputs": [
    {
     "name": "stdout",
     "output_type": "stream",
     "text": [
      "La secuencia oculta más probable es: ['B', 'B', 'B', 'B', 'B', 'B', 'B', 'B']\n",
      "Su probabilidad es de: 0.1677721600000001\n"
     ]
    }
   ],
   "source": [
    "mayor = None\n",
    "mayor_probabilidad = 0\n",
    "#Po = 0\n",
    "for lista in lista_de_listas:\n",
    "    p = probabilidad_una_secuencia_oculta(lista)\n",
    "    #Po += p\n",
    "    if p > mayor_probabilidad:\n",
    "        mayor_probabilidad = p\n",
    "        mayor = lista\n",
    "\n",
    "print(f\"La secuencia oculta más probable es: {mayor}\")\n",
    "print(f\"Su probabilidad es de: {mayor_probabilidad}\")"
   ]
  },
  {
   "cell_type": "markdown",
   "metadata": {},
   "source": [
    "c). "
   ]
  },
  {
   "cell_type": "code",
   "execution_count": 111,
   "metadata": {},
   "outputs": [],
   "source": [
    "DictH = {0: \"J\", 1: \"B\"}\n",
    "DictO = {0: \"C\", 1: \"S\"}\n",
    "Obs = np.array([1,0,0,0,1,0,1,0])\n",
    "States = np.array([0,1])\n",
    "Prior =  np.array([0.2,0.8])"
   ]
  },
  {
   "cell_type": "code",
   "execution_count": 112,
   "metadata": {},
   "outputs": [],
   "source": [
    "def GetStates(States,N):\n",
    "    \n",
    "    CStates = list( combinations_with_replacement(States,N) )\n",
    "    \n",
    "    print(CStates)\n",
    "    \n",
    "    Permu = []\n",
    "    \n",
    "    for it in CStates:\n",
    "        p = list(permutations(it,N))\n",
    "       # print(p)\n",
    "        \n",
    "        for i in p:\n",
    "            if i not in Permu:\n",
    "                Permu.append(i)\n",
    "                \n",
    "    return np.array(Permu)"
   ]
  },
  {
   "cell_type": "code",
   "execution_count": 113,
   "metadata": {},
   "outputs": [
    {
     "name": "stdout",
     "output_type": "stream",
     "text": [
      "[(0, 0, 0, 0, 0, 0, 0, 0), (0, 0, 0, 0, 0, 0, 0, 1), (0, 0, 0, 0, 0, 0, 1, 1), (0, 0, 0, 0, 0, 1, 1, 1), (0, 0, 0, 0, 1, 1, 1, 1), (0, 0, 0, 1, 1, 1, 1, 1), (0, 0, 1, 1, 1, 1, 1, 1), (0, 1, 1, 1, 1, 1, 1, 1), (1, 1, 1, 1, 1, 1, 1, 1)]\n"
     ]
    },
    {
     "data": {
      "text/plain": [
       "array([[0, 0, 0, ..., 0, 0, 0],\n",
       "       [0, 0, 0, ..., 0, 0, 1],\n",
       "       [0, 0, 0, ..., 0, 1, 0],\n",
       "       ...,\n",
       "       [1, 1, 1, ..., 1, 0, 1],\n",
       "       [1, 1, 1, ..., 1, 1, 0],\n",
       "       [1, 1, 1, ..., 1, 1, 1]])"
      ]
     },
     "execution_count": 113,
     "metadata": {},
     "output_type": "execute_result"
    }
   ],
   "source": [
    "HiddenStates = GetStates(States,8)\n",
    "HiddenStates"
   ]
  },
  {
   "cell_type": "code",
   "execution_count": 114,
   "metadata": {},
   "outputs": [],
   "source": [
    "def GetProb(T,E,Obs,State,Prior):\n",
    "    \n",
    "    n = len(Obs)\n",
    "    p = 1.\n",
    "    \n",
    "    p *= Prior[State[0]]\n",
    "    \n",
    "    # Matriz de transicion\n",
    "    for i in range(n-1):\n",
    "        p *= T[ State[i+1], State[i]  ]\n",
    "        \n",
    "    for i in range(n):\n",
    "        p *= E[ Obs[i], State[i] ]\n",
    "        \n",
    "    return p"
   ]
  },
  {
   "cell_type": "code",
   "execution_count": 115,
   "metadata": {},
   "outputs": [],
   "source": [
    "P = np.zeros(HiddenStates.shape[0], dtype=np.float64)"
   ]
  },
  {
   "cell_type": "code",
   "execution_count": 116,
   "metadata": {},
   "outputs": [
    {
     "name": "stdout",
     "output_type": "stream",
     "text": [
      "[1.63840000e-04 7.37280000e-05 2.04800000e-06 1.84320000e-05\n",
      " 2.04800000e-06 1.84320000e-05 1.84320000e-05 1.84320000e-05\n",
      " 3.27680000e-05 1.47456000e-05 8.29440000e-06 3.68640000e-06\n",
      " 9.21600000e-07 2.56000000e-08 3.68640000e-06 8.29440000e-06\n",
      " 2.30400000e-07 2.07360000e-06 3.68640000e-06 8.29440000e-06\n",
      " 2.30400000e-07 2.07360000e-06 2.30400000e-07 3.31776000e-05\n",
      " 8.29440000e-06 2.30400000e-07 2.07360000e-06 2.30400000e-07\n",
      " 2.07360000e-06 3.31776000e-05 1.47456000e-05 4.09600000e-07\n",
      " 3.68640000e-06 4.09600000e-07 3.68640000e-06 3.68640000e-06\n",
      " 5.89824000e-05 2.65420800e-05 1.84320000e-07 1.65888000e-06\n",
      " 7.37280000e-07 1.65888000e-06 9.33120000e-07 4.14720000e-07\n",
      " 1.65888000e-06 4.60800000e-08 6.63552000e-06 1.65888000e-06\n",
      " 9.33120000e-07 4.14720000e-07 1.03680000e-07 2.88000000e-09\n",
      " 4.14720000e-07 1.49299200e-05 4.14720000e-07 3.73248000e-06\n",
      " 6.63552000e-06 1.65888000e-06 9.33120000e-07 4.14720000e-07\n",
      " 1.03680000e-07 2.88000000e-09 4.14720000e-07 9.33120000e-07\n",
      " 2.59200000e-08 2.33280000e-07 4.14720000e-07 1.49299200e-05\n",
      " 4.14720000e-07 3.73248000e-06 4.14720000e-07 5.97196800e-05\n",
      " 2.94912000e-06 1.65888000e-06 7.37280000e-07 1.84320000e-07\n",
      " 5.12000000e-09 7.37280000e-07 1.65888000e-06 4.60800000e-08\n",
      " 4.14720000e-07 7.37280000e-07 1.65888000e-06 4.60800000e-08\n",
      " 4.14720000e-07 4.60800000e-08 6.63552000e-06 2.65420800e-05\n",
      " 7.37280000e-07 6.63552000e-06 7.37280000e-07 6.63552000e-06\n",
      " 1.06168320e-04 5.30841600e-06 2.98598400e-06 3.31776000e-07\n",
      " 2.98598400e-06 1.32710400e-06 2.98598400e-06 2.07360000e-08\n",
      " 1.86624000e-07 8.29440000e-08 2.98598400e-06 1.67961600e-06\n",
      " 7.46496000e-07 2.98598400e-06 8.29440000e-08 1.19439360e-05\n",
      " 2.98598400e-06 2.07360000e-08 1.86624000e-07 8.29440000e-08\n",
      " 1.86624000e-07 1.04976000e-07 4.66560000e-08 1.86624000e-07\n",
      " 5.18400000e-09 7.46496000e-07 2.98598400e-06 1.67961600e-06\n",
      " 7.46496000e-07 1.86624000e-07 5.18400000e-09 7.46496000e-07\n",
      " 2.68738560e-05 7.46496000e-07 6.71846400e-06 1.19439360e-05\n",
      " 5.30841600e-06 3.68640000e-08 3.31776000e-07 1.47456000e-07\n",
      " 3.31776000e-07 1.86624000e-07 8.29440000e-08 3.31776000e-07\n",
      " 9.21600000e-09 1.32710400e-06 3.31776000e-07 1.86624000e-07\n",
      " 8.29440000e-08 2.07360000e-08 5.76000000e-10 8.29440000e-08\n",
      " 2.98598400e-06 8.29440000e-08 7.46496000e-07 1.32710400e-06\n",
      " 5.30841600e-06 2.98598400e-06 1.32710400e-06 3.31776000e-07\n",
      " 9.21600000e-09 1.32710400e-06 2.98598400e-06 8.29440000e-08\n",
      " 7.46496000e-07 1.32710400e-06 4.77757440e-05 1.32710400e-06\n",
      " 1.19439360e-05 1.32710400e-06 1.91102976e-04 9.55514880e-06\n",
      " 5.97196800e-07 5.37477120e-06 5.97196800e-07 5.37477120e-06\n",
      " 2.38878720e-06 5.97196800e-07 3.35923200e-07 3.73248000e-08\n",
      " 3.35923200e-07 1.49299200e-07 5.37477120e-06 3.73248000e-08\n",
      " 3.35923200e-07 1.49299200e-07 5.37477120e-06 3.02330880e-06\n",
      " 1.34369280e-06 5.37477120e-06 1.49299200e-07 2.14990848e-05\n",
      " 1.06168320e-06 5.97196800e-07 6.63552000e-08 5.97196800e-07\n",
      " 2.65420800e-07 5.97196800e-07 4.14720000e-09 3.73248000e-08\n",
      " 1.65888000e-08 5.97196800e-07 3.35923200e-07 1.49299200e-07\n",
      " 5.97196800e-07 1.65888000e-08 2.38878720e-06 9.55514880e-06\n",
      " 6.63552000e-08 5.97196800e-07 2.65420800e-07 5.97196800e-07\n",
      " 3.35923200e-07 1.49299200e-07 5.97196800e-07 1.65888000e-08\n",
      " 2.38878720e-06 9.55514880e-06 5.37477120e-06 2.38878720e-06\n",
      " 5.97196800e-07 1.65888000e-08 2.38878720e-06 8.59963392e-05\n",
      " 2.38878720e-06 2.14990848e-05 3.82205952e-05 1.71992678e-05\n",
      " 1.07495424e-06 1.07495424e-06 9.67458816e-06 1.07495424e-06\n",
      " 9.67458816e-06 4.29981696e-06 1.91102976e-06 1.19439360e-07\n",
      " 1.07495424e-06 1.19439360e-07 1.07495424e-06 4.77757440e-07\n",
      " 1.91102976e-06 1.07495424e-06 1.19439360e-07 1.07495424e-06\n",
      " 4.77757440e-07 1.71992678e-05 1.19439360e-07 1.07495424e-06\n",
      " 4.77757440e-07 1.71992678e-05 9.67458816e-06 4.29981696e-06\n",
      " 1.71992678e-05 4.77757440e-07 6.87970714e-05 3.09586821e-05\n",
      " 3.43985357e-06 3.43985357e-06 3.43985357e-06 3.09586821e-05\n",
      " 3.43985357e-06 3.09586821e-05 1.37594143e-05 9.90677828e-05]\n"
     ]
    }
   ],
   "source": [
    "for i in range(P.shape[0]):\n",
    "    P[i] = GetProb(T,E,Obs,HiddenStates[i],Prior)\n",
    "    \n",
    "print(P)"
   ]
  },
  {
   "cell_type": "code",
   "execution_count": 117,
   "metadata": {},
   "outputs": [
    {
     "data": {
      "image/png": "[encoded data removed]",
      "text/plain": [
       "<Figure size 640x480 with 1 Axes>"
      ]
     },
     "metadata": {},
     "output_type": "display_data"
    }
   ],
   "source": [
    "plt.plot(P)\n",
    "plt.grid(True)"
   ]
  },
  {
   "cell_type": "code",
   "execution_count": 118,
   "metadata": {},
   "outputs": [
    {
     "name": "stdout",
     "output_type": "stream",
     "text": [
      "El estado oculto más probable es: [[1 1 1 1 0 0 0 0]], es decir:\n",
      "['B', 'B', 'B', 'B', 'J', 'J', 'J', 'J']\n",
      "Y su probabilidad es de : 0.0001911029760000001\n"
     ]
    }
   ],
   "source": [
    "ii = np.where( P == np.amax(P))\n",
    "print(f\"El estado oculto más probable es: {HiddenStates[ii]}, es decir:\")\n",
    "lista = []\n",
    "for i in HiddenStates[ii][0]:\n",
    "    lista.append(DictH[i])\n",
    "print(lista)\n",
    "print(f\"Y su probabilidad es de : {max(P)}\")"
   ]
  },
  {
   "cell_type": "code",
   "execution_count": 119,
   "metadata": {},
   "outputs": [
    {
     "data": {
      "text/plain": [
       "0.0019344381513984013"
      ]
     },
     "execution_count": 119,
     "metadata": {},
     "output_type": "execute_result"
    }
   ],
   "source": [
    "np.sum(P)"
   ]
  },
  {
   "cell_type": "markdown",
   "metadata": {},
   "source": [
    "d)."
   ]
  },
  {
   "cell_type": "code",
   "execution_count": 120,
   "metadata": {},
   "outputs": [
    {
     "name": "stdout",
     "output_type": "stream",
     "text": [
      "[(0, 0, 0, 0, 0, 0, 0, 0), (0, 0, 0, 0, 0, 0, 0, 1), (0, 0, 0, 0, 0, 0, 1, 1), (0, 0, 0, 0, 0, 1, 1, 1), (0, 0, 0, 0, 1, 1, 1, 1), (0, 0, 0, 1, 1, 1, 1, 1), (0, 0, 1, 1, 1, 1, 1, 1), (0, 1, 1, 1, 1, 1, 1, 1), (1, 1, 1, 1, 1, 1, 1, 1)]\n"
     ]
    }
   ],
   "source": [
    "ObsStates = GetStates([0, 1],8)"
   ]
  },
  {
   "cell_type": "code",
   "execution_count": 121,
   "metadata": {},
   "outputs": [],
   "source": [
    "Nobs = ObsStates.shape[0]\n",
    "\n",
    "PObs = np.zeros(Nobs)\n",
    "\n",
    "for j in range(Nobs):\n",
    "    \n",
    "    dim = HiddenStates.shape[0]\n",
    "    P = np.zeros(dim)\n",
    "    \n",
    "    for i in range(dim):\n",
    "        P[i] = GetProb(T,E,ObsStates[j],HiddenStates[i],Prior)\n",
    "        \n",
    "    PObs[j] = np.sum(P)"
   ]
  },
  {
   "cell_type": "code",
   "execution_count": 122,
   "metadata": {},
   "outputs": [
    {
     "name": "stdout",
     "output_type": "stream",
     "text": [
      "La suma de todos los estados observables es: 1.0000000000000007\n"
     ]
    }
   ],
   "source": [
    "print(f\"La suma de todos los estados observables es: {np.sum(PObs)}\")"
   ]
  },
  {
   "cell_type": "markdown",
   "metadata": {},
   "source": [
    "e)."
   ]
  },
  {
   "cell_type": "markdown",
   "metadata": {},
   "source": [
    "El resultado sí depende de la probabilidad a-priori ya que se útiliza para encontrar la probabilidad de los estados ocultos. "
   ]
  }
 ],
 "metadata": {
  "kernelspec": {
   "display_name": "Python 3",
   "language": "python",
   "name": "python3"
  },
  "language_info": {
   "codemirror_mode": {
    "name": "ipython",
    "version": 3
   },
   "file_extension": ".py",
   "mimetype": "text/x-python",
   "name": "python",
   "nbconvert_exporter": "python",
   "pygments_lexer": "ipython3",
   "version": "3.11.4"
  }
 },
 "nbformat": 4,
 "nbformat_minor": 2
}
