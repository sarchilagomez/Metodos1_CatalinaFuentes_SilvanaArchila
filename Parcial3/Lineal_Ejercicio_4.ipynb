{
 "cells": [
  {
   "cell_type": "markdown",
   "metadata": {},
   "source": [
    "Ejercicios Parcial 3 - Métodos Computacionales 1\n",
    "\n",
    "Catalina Fuentes y Silvana Archila"
   ]
  },
  {
   "cell_type": "markdown",
   "metadata": {},
   "source": [
    "Algebra lineal\n",
    "\n",
    "Ejercico #4: Algoritmo multiplicación de matrices"
   ]
  },
  {
   "cell_type": "code",
   "execution_count": 12,
   "metadata": {},
   "outputs": [],
   "source": [
    "import numpy as np \n",
    "import sympy as sym"
   ]
  },
  {
   "cell_type": "code",
   "execution_count": 15,
   "metadata": {},
   "outputs": [],
   "source": [
    "#Creando algoritmo que multiplica matrices\n",
    "def multiplicar_matrices(matrizA, matrizB):\n",
    "\n",
    "    #Alerta si las matrices no se pueden multiplicar \n",
    "    if matrizA.shape[1] != matrizB.shape[0]:\n",
    "        x = str(\"Las dimensiones de las matrices no permiten la multiplicación.\")\n",
    "        compatibles = 0\n",
    "        return x\n",
    "\n",
    "    compatibles = 1\n",
    "    \n",
    "    #Creando matriz de ceros con las dimensiones adecuadas\n",
    "    filas_multip = matrizA.shape[0]\n",
    "    colum_multip = matrizB.shape[1]\n",
    "    multiplicacion = np.zeros((filas_multip, colum_multip))\n",
    "\n",
    "    #Realizando la multiplicación de las matrices\n",
    "    if compatibles != 0:\n",
    "        for i in range(filas_multip):\n",
    "            for j in range(colum_multip):\n",
    "                for k in range(matrizB.shape[0]):\n",
    "                    multiplicacion[i][j] += matrizA[i][k] * matrizB[k][j]\n",
    "\n",
    "        return multiplicacion"
   ]
  },
  {
   "cell_type": "code",
   "execution_count": 16,
   "metadata": {},
   "outputs": [
    {
     "name": "stdout",
     "output_type": "stream",
     "text": [
      "La multiplicación de las 2 matrices dadas tiene como resultado:\n",
      "[[ 4. -2.  1.]\n",
      " [20. -7. 12.]\n",
      " [-8. 13. 21.]]\n"
     ]
    }
   ],
   "source": [
    "#Usar el algoritmo para calcular la multiplicación de las 2 matrices dadas\n",
    "\n",
    "matrizA = np.array([[1,0,0], [5,1,0], [-2,3,1]])\n",
    "matrizB = np.array([[4,-2,1], [0,3,7], [0,0,2]])\n",
    "\n",
    "multiplicacion = multiplicar_matrices(matrizA,matrizB)\n",
    "\n",
    "print(\"La multiplicación de las 2 matrices dadas tiene como resultado:\" )\n",
    "print(multiplicacion)"
   ]
  }
 ],
 "metadata": {
  "kernelspec": {
   "display_name": "Python 3",
   "language": "python",
   "name": "python3"
  },
  "language_info": {
   "codemirror_mode": {
    "name": "ipython",
    "version": 3
   },
   "file_extension": ".py",
   "mimetype": "text/x-python",
   "name": "python",
   "nbconvert_exporter": "python",
   "pygments_lexer": "ipython3",
   "version": "3.11.4"
  },
  "orig_nbformat": 4
 },
 "nbformat": 4,
 "nbformat_minor": 2
}
