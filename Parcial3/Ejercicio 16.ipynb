{
 "cells": [
  {
   "cell_type": "code",
   "execution_count": 31,
   "metadata": {},
   "outputs": [],
   "source": [
    "import numpy as np"
   ]
  },
  {
   "cell_type": "code",
   "execution_count": 32,
   "metadata": {},
   "outputs": [],
   "source": [
    "y0 = np.array([[1, 0, 0, 0],\n",
    "               [0, 1, 0, 0],\n",
    "               [0, 0, -1, 0],\n",
    "               [0, 0, 0, -1]])\n",
    "\n",
    "y1 = np.array([[0, 0, 0, 1],\n",
    "               [0, 0, 1, 0],\n",
    "               [0, -1, 0, 0],\n",
    "               [1, 0, 0, 0]])\n",
    "\n",
    "y2 = np.array([[0, 0, 0, -1j],\n",
    "               [0, 0, 1j, 0],\n",
    "               [0, 1j, 0, 0],\n",
    "               [-1j, 0, 0, -1]])\n",
    "\n",
    "y3 = np.array([[0, 0, 1, 0],\n",
    "               [0, 0, 0, -1],\n",
    "               [-1, 0, 0, 0],\n",
    "               [0, 1, 0, 0]])\n",
    "\n",
    "n = np.array([[2, 0, 0, 0],\n",
    "              [0, -2, 0, 0],\n",
    "              [0, 0, -2, 0],\n",
    "              [0, 0, 0, -2]])"
   ]
  },
  {
   "cell_type": "code",
   "execution_count": 33,
   "metadata": {},
   "outputs": [
    {
     "name": "stdout",
     "output_type": "stream",
     "text": [
      "Las matrices 2nI4x4 y {y0, y0} son iguales\n",
      "Las matrices 2nI4x4 y {y0, y1} son iguales\n",
      "Las matrices 2nI4x4 y {y0, y2} son iguales\n",
      "Las matrices 2nI4x4 y {y0, y3} son iguales\n",
      "Las matrices 2nI4x4 y {y1, y0} son iguales\n",
      "Las matrices 2nI4x4 y {y1, y1} son iguales\n",
      "Las matrices 2nI4x4 y {y1, y2} son iguales\n",
      "Las matrices 2nI4x4 y {y1, y3} son iguales\n",
      "Las matrices 2nI4x4 y {y2, y0} son iguales\n",
      "Las matrices 2nI4x4 y {y2, y1} son iguales\n",
      "Las matrices 2nI4x4 y {y2, y2} son iguales\n",
      "Las matrices 2nI4x4 y {y2, y3} son iguales\n",
      "Las matrices 2nI4x4 y {y3, y0} son iguales\n",
      "Las matrices 2nI4x4 y {y3, y1} son iguales\n",
      "Las matrices 2nI4x4 y {y3, y2} son iguales\n",
      "Las matrices 2nI4x4 y {y3, y3} son iguales\n"
     ]
    }
   ],
   "source": [
    "y = [y0, y1, y2, y3]\n",
    "for i in range(4):\n",
    "    for j in range(4):\n",
    "        yu = y[i]\n",
    "        yv = y[j]\n",
    "        yuyv = np.matmul(yu, yv)\n",
    "        yvyu = np.matmul(yv, yu)\n",
    "        resultado = yuyv + yvyu\n",
    "        if resultado.all() == n.all():\n",
    "            print(f\"Las matrices 2nI4x4 y {{y{i}, y{j}}} son iguales\")\n",
    "        else:\n",
    "            print(f\"No se cumple la igualdad para {{y{i}, y{j}}}\")\n"
   ]
  },
  {
   "cell_type": "markdown",
   "metadata": {},
   "source": [
    "Como podemos ver, el álgebra de Clifford está dada por una relación de anticonmutación."
   ]
  }
 ],
 "metadata": {
  "kernelspec": {
   "display_name": "Python 3",
   "language": "python",
   "name": "python3"
  },
  "language_info": {
   "codemirror_mode": {
    "name": "ipython",
    "version": 3
   },
   "file_extension": ".py",
   "mimetype": "text/x-python",
   "name": "python",
   "nbconvert_exporter": "python",
   "pygments_lexer": "ipython3",
   "version": "3.11.4"
  }
 },
 "nbformat": 4,
 "nbformat_minor": 2
}
