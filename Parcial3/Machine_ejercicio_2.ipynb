{
 "cells": [
  {
   "cell_type": "code",
   "execution_count": 484,
   "metadata": {},
   "outputs": [],
   "source": [
    "import numpy as np\n",
    "import scipy"
   ]
  },
  {
   "cell_type": "code",
   "execution_count": 485,
   "metadata": {},
   "outputs": [],
   "source": [
    "def f2(x,y):\n",
    "    return x**4 + y**4 - 2*(x-y)**2\n",
    "    #return 14*x**2 - 2*x**3 + 2*y**2 + 4*x*y"
   ]
  },
  {
   "cell_type": "code",
   "execution_count": 486,
   "metadata": {},
   "outputs": [],
   "source": [
    "Dx = lambda f,x,y,h=1e-5: (f(x+h,y) - f(x-h,y))/(2*h)\n",
    "Dy = lambda f,x,y,h=1e-5: (f(x,y+h) - f(x,y-h))/(2*h)"
   ]
  },
  {
   "cell_type": "code",
   "execution_count": 487,
   "metadata": {},
   "outputs": [
    {
     "data": {
      "text/plain": [
       "array([-1.1  ,  1.604])"
      ]
     },
     "execution_count": 487,
     "metadata": {},
     "output_type": "execute_result"
    }
   ],
   "source": [
    "x0, y0 = 0.5,0.1\n",
    "\n",
    "Gradient = lambda f,x,y: np.array([Dx(f,x,y),Dy(f,x,y)])\n",
    "Gradient(f2,x0,y0)"
   ]
  },
  {
   "cell_type": "markdown",
   "metadata": {},
   "source": [
    "Algoritmo con momentum:"
   ]
  },
  {
   "cell_type": "code",
   "execution_count": 488,
   "metadata": {},
   "outputs": [],
   "source": [
    "def Momentum(x0, gamma, n, f, N):\n",
    "    r = np.zeros((N,2))\n",
    "    r[0] = x0\n",
    "    \n",
    "    Grad = np.zeros((N,2))\n",
    "    Grad[0] = Gradient(f,r[0,0],r[0,1])\n",
    "    \n",
    "    # We save the gradient in each step\n",
    "    error = 10**(-5)\n",
    "    iteraciones = 0\n",
    "\n",
    "    for i in (range(1,N)):\n",
    "        r[i] = r[i-1] - gamma*Gradient(f,r[i-1,0],r[i-1,1]) + n*(r[i-2] - r[i-3])\n",
    "        Grad[i] = Gradient(f,r[i-1,0],r[i-1,1])\n",
    "        iteraciones += 1\n",
    "        if np.sqrt((Grad[i][0])**2 + (Grad[i][1])**2) < error:\n",
    "            return r, iteraciones\n",
    "    return r, iteraciones"
   ]
  },
  {
   "cell_type": "code",
   "execution_count": 489,
   "metadata": {},
   "outputs": [],
   "source": [
    "x0 = np.array([0,3])\n",
    "gamma = 0.001\n",
    "n = 0.6\n",
    "N = 1000\n",
    "r, iteraciones = Momentum(x0, gamma, n, f2, N)"
   ]
  },
  {
   "cell_type": "code",
   "execution_count": 490,
   "metadata": {},
   "outputs": [
    {
     "name": "stdout",
     "output_type": "stream",
     "text": [
      "La solución es: [-1.41421315  1.41421315] y se encontró en 342 iteraciones usando el algoritmo con momentum\n"
     ]
    }
   ],
   "source": [
    "print(f\"La solución es: {r[iteraciones]} y se encontró en {iteraciones} iteraciones usando el algoritmo con momentum\")"
   ]
  },
  {
   "cell_type": "markdown",
   "metadata": {},
   "source": [
    "Algoritmo original:"
   ]
  },
  {
   "cell_type": "code",
   "execution_count": 491,
   "metadata": {},
   "outputs": [],
   "source": [
    "def Minimizer(x0, f, N, gamma):\n",
    "    \n",
    "    r = np.zeros((N,2))\n",
    "    r[0] = x0\n",
    "    \n",
    "    Grad = np.zeros((N,2))\n",
    "    Grad[0] = Gradient(f,r[0,0],r[0,1])\n",
    "    \n",
    "    # We save the gradient in each step\n",
    "    error = 10**(-5)\n",
    "    iteraciones = 0\n",
    "\n",
    "    for i in (range(1,N)):\n",
    "        r[i] = r[i-1] - gamma*Gradient(f,r[i-1,0],r[i-1,1])\n",
    "        Grad[i] = Gradient(f,r[i-1,0],r[i-1,1])\n",
    "        iteraciones += 1\n",
    "        if np.sqrt((Grad[i][0])**2 + (Grad[i][1])**2) < error:\n",
    "            return r, iteraciones\n",
    "        \n",
    "        \n",
    "    return r,iteraciones"
   ]
  },
  {
   "cell_type": "code",
   "execution_count": 492,
   "metadata": {},
   "outputs": [],
   "source": [
    "r,iteraciones = Minimizer(x0, f2, N, gamma)"
   ]
  },
  {
   "cell_type": "code",
   "execution_count": 493,
   "metadata": {},
   "outputs": [
    {
     "name": "stdout",
     "output_type": "stream",
     "text": [
      "La solución es: [-1.41421313  1.41421313] y se encontró en 975 iteraciones usando el algoritmo original\n"
     ]
    }
   ],
   "source": [
    "print(f\"La solución es: {r[iteraciones]} y se encontró en {iteraciones} iteraciones usando el algoritmo original\")"
   ]
  },
  {
   "cell_type": "markdown",
   "metadata": {},
   "source": [
    "Como podemos ver el algoritmo con momentum llega a la solución en muchas menos iteraciones que el algoritmo original. De hecho, con este coeficinte de momentum el algoritmo con momentum llega a la solución más que el doble de rápido que el algoritmo original."
   ]
  }
 ],
 "metadata": {
  "kernelspec": {
   "display_name": "Python 3",
   "language": "python",
   "name": "python3"
  },
  "language_info": {
   "codemirror_mode": {
    "name": "ipython",
    "version": 3
   },
   "file_extension": ".py",
   "mimetype": "text/x-python",
   "name": "python",
   "nbconvert_exporter": "python",
   "pygments_lexer": "ipython3",
   "version": "3.11.4"
  }
 },
 "nbformat": 4,
 "nbformat_minor": 2
}
