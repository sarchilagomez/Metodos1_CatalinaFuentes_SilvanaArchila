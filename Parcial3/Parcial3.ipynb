{
 "cells": [
  {
   "cell_type": "code",
   "execution_count": 3,
   "metadata": {},
   "outputs": [],
   "source": [
    "import numpy as np\n",
    "import matplotlib.pyplot as plt\n",
    "import sympy as sym"
   ]
  },
  {
   "cell_type": "markdown",
   "metadata": {},
   "source": [
    "Parcial #3\n",
    "\n",
    "Catalina Fuentes y Silvana Archila\n",
    "\n",
    "PROBLEMA 22"
   ]
  },
  {
   "cell_type": "markdown",
   "metadata": {},
   "source": [
    "A. (Teórico)"
   ]
  },
  {
   "cell_type": "markdown",
   "metadata": {},
   "source": [
    "B. Hallar las 6 raices de la ecuación"
   ]
  },
  {
   "cell_type": "code",
   "execution_count": 4,
   "metadata": {},
   "outputs": [
    {
     "data": {
      "text/plain": [
       "0.07322199739508203"
      ]
     },
     "execution_count": 4,
     "metadata": {},
     "output_type": "execute_result"
    }
   ],
   "source": [
    "#Genero 2 simbolos reales para X y Y\n",
    "x = sym.Symbol('x',real=True)\n",
    "y = sym.Symbol('y',real=True)\n",
    "\n",
    "\n",
    "#Defino un símbolo complejo Z\n",
    "z = x + (sym.I)*y\n",
    "\n",
    "#Defino constante C\n",
    "W = 114.6\n",
    "q = 3*10**(-4)\n",
    "L = 5\n",
    "k = 9*10**(9)\n",
    "\n",
    "C = ((k**2 * q**4)/(L**4 * W**2))*((np.sqrt(2)/2)+(1/4))**2\n",
    "C"
   ]
  },
  {
   "cell_type": "code",
   "execution_count": 5,
   "metadata": {},
   "outputs": [
    {
     "data": {
      "text/latex": [
       "$\\displaystyle \\left(x + i y\\right)^{6} + 0.073221997395082 \\left(x + i y\\right)^{2} - 0.073221997395082$"
      ],
      "text/plain": [
       "(x + I*y)**6 + 0.073221997395082*(x + I*y)**2 - 0.073221997395082"
      ]
     },
     "execution_count": 5,
     "metadata": {},
     "output_type": "execute_result"
    }
   ],
   "source": [
    "#Calculo función compleja\n",
    "funcion = (z)**6 + C*(z)**2 - C\n",
    "funcion"
   ]
  },
  {
   "cell_type": "code",
   "execution_count": 6,
   "metadata": {},
   "outputs": [
    {
     "data": {
      "text/plain": [
       "[x**6 - 15*x**4*y**2 + 15*x**2*y**4 + 0.073221997395082*x**2 - y**6 - 0.073221997395082*y**2 - 0.073221997395082,\n",
       " 6*x**5*y - 20*x**3*y**3 + 6*x*y**5 + 0.146443994790164*x*y]"
      ]
     },
     "execution_count": 6,
     "metadata": {},
     "output_type": "execute_result"
    }
   ],
   "source": [
    "#Guardo la parte real e imaginaria de la función en una lista\n",
    "F = [sym.re(funcion),sym.im(funcion)]\n",
    "F"
   ]
  },
  {
   "cell_type": "code",
   "execution_count": 7,
   "metadata": {},
   "outputs": [
    {
     "data": {
      "text/latex": [
       "$\\displaystyle \\left[\\begin{matrix}6 x^{5} - 60 x^{3} y^{2} + 30 x y^{4} + 0.146443994790164 x & - 30 x^{4} y + 60 x^{2} y^{3} - 6 y^{5} - 0.146443994790164 y\\\\30 x^{4} y - 60 x^{2} y^{3} + 6 y^{5} + 0.146443994790164 y & 6 x^{5} - 60 x^{3} y^{2} + 30 x y^{4} + 0.146443994790164 x\\end{matrix}\\right]$"
      ],
      "text/plain": [
       "Matrix([\n",
       "[6*x**5 - 60*x**3*y**2 + 30*x*y**4 + 0.146443994790164*x, -30*x**4*y + 60*x**2*y**3 - 6*y**5 - 0.146443994790164*y],\n",
       "[30*x**4*y - 60*x**2*y**3 + 6*y**5 + 0.146443994790164*y,  6*x**5 - 60*x**3*y**2 + 30*x*y**4 + 0.146443994790164*x]])"
      ]
     },
     "execution_count": 7,
     "metadata": {},
     "output_type": "execute_result"
    }
   ],
   "source": [
    "#Hallo el Jacobiano de F\n",
    "def GetJacobian(funcion, variables):\n",
    "    #Miro cantidad de funciones y variables para saber las dimensiones de la Jacobiana\n",
    "    num_funciones = len(funcion)\n",
    "    num_variables = len(variables)\n",
    "    \n",
    "    #Creo matriz de ceros de las dimensiones halladas antes\n",
    "    Jacobiana = sym.Matrix.zeros(num_funciones, num_variables)\n",
    "    \n",
    "    #Hago la jacobiana\n",
    "    for i in range(num_funciones):\n",
    "        for j in range(num_variables):\n",
    "            Jacobiana[i, j] = sym.diff(funcion[i], variables[j])\n",
    "    \n",
    "    return Jacobiana\n",
    "\n",
    "funciones = [F[0], F[1]]\n",
    "variables = [x, y]\n",
    "\n",
    "J = GetJacobian(funciones, variables)\n",
    "J"
   ]
  },
  {
   "cell_type": "code",
   "execution_count": 8,
   "metadata": {},
   "outputs": [
    {
     "data": {
      "text/latex": [
       "$\\displaystyle \\left[\\begin{matrix}\\frac{1 + \\frac{\\left(- 30 x^{4} y + 60 x^{2} y^{3} - 6 y^{5} - 0.146443994790164 y\\right) \\left(30 x^{4} y - 60 x^{2} y^{3} + 6 y^{5} + 0.146443994790164 y\\right)}{\\left(6 x^{5} - 60 x^{3} y^{2} + 30 x y^{4} + 0.146443994790164 x\\right) \\left(6 x^{5} - 60 x^{3} y^{2} + 30 x y^{4} + 0.146443994790164 x - \\frac{\\left(- 30 x^{4} y + 60 x^{2} y^{3} - 6 y^{5} - 0.146443994790164 y\\right) \\left(30 x^{4} y - 60 x^{2} y^{3} + 6 y^{5} + 0.146443994790164 y\\right)}{6 x^{5} - 60 x^{3} y^{2} + 30 x y^{4} + 0.146443994790164 x}\\right)}}{6 x^{5} - 60 x^{3} y^{2} + 30 x y^{4} + 0.146443994790164 x} & - \\frac{- 30 x^{4} y + 60 x^{2} y^{3} - 6 y^{5} - 0.146443994790164 y}{\\left(6 x^{5} - 60 x^{3} y^{2} + 30 x y^{4} + 0.146443994790164 x\\right) \\left(6 x^{5} - 60 x^{3} y^{2} + 30 x y^{4} + 0.146443994790164 x - \\frac{\\left(- 30 x^{4} y + 60 x^{2} y^{3} - 6 y^{5} - 0.146443994790164 y\\right) \\left(30 x^{4} y - 60 x^{2} y^{3} + 6 y^{5} + 0.146443994790164 y\\right)}{6 x^{5} - 60 x^{3} y^{2} + 30 x y^{4} + 0.146443994790164 x}\\right)}\\\\- \\frac{30 x^{4} y - 60 x^{2} y^{3} + 6 y^{5} + 0.146443994790164 y}{\\left(6 x^{5} - 60 x^{3} y^{2} + 30 x y^{4} + 0.146443994790164 x\\right) \\left(6 x^{5} - 60 x^{3} y^{2} + 30 x y^{4} + 0.146443994790164 x - \\frac{\\left(- 30 x^{4} y + 60 x^{2} y^{3} - 6 y^{5} - 0.146443994790164 y\\right) \\left(30 x^{4} y - 60 x^{2} y^{3} + 6 y^{5} + 0.146443994790164 y\\right)}{6 x^{5} - 60 x^{3} y^{2} + 30 x y^{4} + 0.146443994790164 x}\\right)} & \\frac{1}{6 x^{5} - 60 x^{3} y^{2} + 30 x y^{4} + 0.146443994790164 x - \\frac{\\left(- 30 x^{4} y + 60 x^{2} y^{3} - 6 y^{5} - 0.146443994790164 y\\right) \\left(30 x^{4} y - 60 x^{2} y^{3} + 6 y^{5} + 0.146443994790164 y\\right)}{6 x^{5} - 60 x^{3} y^{2} + 30 x y^{4} + 0.146443994790164 x}}\\end{matrix}\\right]$"
      ],
      "text/plain": [
       "Matrix([\n",
       "[(1 + (-30*x**4*y + 60*x**2*y**3 - 6*y**5 - 0.146443994790164*y)*(30*x**4*y - 60*x**2*y**3 + 6*y**5 + 0.146443994790164*y)/((6*x**5 - 60*x**3*y**2 + 30*x*y**4 + 0.146443994790164*x)*(6*x**5 - 60*x**3*y**2 + 30*x*y**4 + 0.146443994790164*x - (-30*x**4*y + 60*x**2*y**3 - 6*y**5 - 0.146443994790164*y)*(30*x**4*y - 60*x**2*y**3 + 6*y**5 + 0.146443994790164*y)/(6*x**5 - 60*x**3*y**2 + 30*x*y**4 + 0.146443994790164*x))))/(6*x**5 - 60*x**3*y**2 + 30*x*y**4 + 0.146443994790164*x), -(-30*x**4*y + 60*x**2*y**3 - 6*y**5 - 0.146443994790164*y)/((6*x**5 - 60*x**3*y**2 + 30*x*y**4 + 0.146443994790164*x)*(6*x**5 - 60*x**3*y**2 + 30*x*y**4 + 0.146443994790164*x - (-30*x**4*y + 60*x**2*y**3 - 6*y**5 - 0.146443994790164*y)*(30*x**4*y - 60*x**2*y**3 + 6*y**5 + 0.146443994790164*y)/(6*x**5 - 60*x**3*y**2 + 30*x*y**4 + 0.146443994790164*x)))],\n",
       "[                                                                                                                          -(30*x**4*y - 60*x**2*y**3 + 6*y**5 + 0.146443994790164*y)/((6*x**5 - 60*x**3*y**2 + 30*x*y**4 + 0.146443994790164*x)*(6*x**5 - 60*x**3*y**2 + 30*x*y**4 + 0.146443994790164*x - (-30*x**4*y + 60*x**2*y**3 - 6*y**5 - 0.146443994790164*y)*(30*x**4*y - 60*x**2*y**3 + 6*y**5 + 0.146443994790164*y)/(6*x**5 - 60*x**3*y**2 + 30*x*y**4 + 0.146443994790164*x))),                                                                                                                       1/(6*x**5 - 60*x**3*y**2 + 30*x*y**4 + 0.146443994790164*x - (-30*x**4*y + 60*x**2*y**3 - 6*y**5 - 0.146443994790164*y)*(30*x**4*y - 60*x**2*y**3 + 6*y**5 + 0.146443994790164*y)/(6*x**5 - 60*x**3*y**2 + 30*x*y**4 + 0.146443994790164*x))]])"
      ]
     },
     "execution_count": 8,
     "metadata": {},
     "output_type": "execute_result"
    }
   ],
   "source": [
    "#Hallo inverso del jacobiano\n",
    "InvJ = J.inv(method='LU')\n",
    "InvJ"
   ]
  },
  {
   "cell_type": "code",
   "execution_count": 9,
   "metadata": {},
   "outputs": [],
   "source": [
    "#Convierto función a Numpy\n",
    "Fn = sym.lambdify([x,y],F,'numpy')\n",
    "\n",
    "#Convierto Jacobiano a Numpy\n",
    "Jn = sym.lambdify([x,y],J,'numpy')\n",
    "\n",
    "#Convierto el inverso del Jacobiano a Numpy\n",
    "IJn = sym.lambdify([x,y],InvJ,'numpy')"
   ]
  },
  {
   "cell_type": "code",
   "execution_count": 10,
   "metadata": {},
   "outputs": [],
   "source": [
    "#Realizo método de Newton Raphson\n",
    "def NewtonRaphson(z,Fn,Jn,itmax=100,precision=1e-9):\n",
    "    \n",
    "    error = 1\n",
    "    it = 0\n",
    "    \n",
    "    while error > precision and it < itmax:\n",
    "        \n",
    "        IFn = Fn(z[0],z[1])\n",
    "        IJn = Jn(z[0],z[1])\n",
    "        \n",
    "        z1 = z - np.dot(IJn,IFn)\n",
    "        \n",
    "        error = np.max( np.abs(z1-z) )\n",
    "        \n",
    "        z = z1\n",
    "        it +=1\n",
    "        \n",
    "    return z"
   ]
  },
  {
   "cell_type": "code",
   "execution_count": 11,
   "metadata": {},
   "outputs": [
    {
     "name": "stdout",
     "output_type": "stream",
     "text": [
      "Raices reales:\n"
     ]
    },
    {
     "data": {
      "text/plain": [
       "[array([-0.60037119,  0.        ]), array([0.60037119, 0.        ])]"
      ]
     },
     "execution_count": 11,
     "metadata": {},
     "output_type": "execute_result"
    }
   ],
   "source": [
    "#Hallo raices\n",
    "z0 = np.array([-1,0])\n",
    "sol1 = NewtonRaphson(z0,Fn,IJn)\n",
    "\n",
    "z1 = np.array([1,0])\n",
    "sol2 = NewtonRaphson(z1,Fn,IJn)\n",
    "\n",
    "z2 = np.array([1,-2])\n",
    "sol3 = NewtonRaphson(z2,Fn,IJn)\n",
    "\n",
    "z3 = np.array([-1,2])\n",
    "sol4 = NewtonRaphson(z3,Fn,IJn)\n",
    "\n",
    "z4 = np.array([1,2])\n",
    "sol5 = NewtonRaphson(z4,Fn,IJn)\n",
    "\n",
    "z5 = np.array([-1,-2])\n",
    "sol6 = NewtonRaphson(z5,Fn,IJn)\n",
    "\n",
    "Reales = [sol1,sol2]\n",
    "print(\"Raices reales:\")\n",
    "Reales\n"
   ]
  },
  {
   "cell_type": "code",
   "execution_count": 12,
   "metadata": {},
   "outputs": [
    {
     "name": "stdout",
     "output_type": "stream",
     "text": [
      "Raices complejas:\n"
     ]
    },
    {
     "data": {
      "text/plain": [
       "[array([ 0.36775746, -0.56166568]),\n",
       " array([-0.36775746,  0.56166568]),\n",
       " array([0.36775746, 0.56166568]),\n",
       " array([-0.36775746, -0.56166568])]"
      ]
     },
     "execution_count": 12,
     "metadata": {},
     "output_type": "execute_result"
    }
   ],
   "source": [
    "Complejas = [sol3,sol4,sol5,sol6]\n",
    "print(\"Raices complejas:\")\n",
    "Complejas "
   ]
  },
  {
   "cell_type": "markdown",
   "metadata": {},
   "source": [
    "C. Ángulo de equilibrio"
   ]
  },
  {
   "cell_type": "code",
   "execution_count": 13,
   "metadata": {},
   "outputs": [
    {
     "data": {
      "text/plain": [
       "(-36.89648713980008, 36.89648713980008)"
      ]
     },
     "execution_count": 13,
     "metadata": {},
     "output_type": "execute_result"
    }
   ],
   "source": [
    "#Elijo raices reales\n",
    "angulo1 = np.arcsin(sol1[0])\n",
    "angulo2 = np.arcsin(sol2[0])\n",
    "\n",
    "#Pasándolos a grados\n",
    "angulo1 = angulo1*180/np.pi\n",
    "angulo2 = angulo2*180/np.pi\n",
    "\n",
    "angulo1, angulo2"
   ]
  },
  {
   "cell_type": "code",
   "execution_count": 14,
   "metadata": {},
   "outputs": [
    {
     "data": {
      "text/plain": [
       "36.89648713980008"
      ]
     },
     "execution_count": 14,
     "metadata": {},
     "output_type": "execute_result"
    }
   ],
   "source": [
    "#El ángulo de equilibrio es el positivo\n",
    "angulo_equil = angulo2\n",
    "angulo_equil"
   ]
  }
 ],
 "metadata": {
  "kernelspec": {
   "display_name": "Python 3",
   "language": "python",
   "name": "python3"
  },
  "language_info": {
   "codemirror_mode": {
    "name": "ipython",
    "version": 3
   },
   "file_extension": ".py",
   "mimetype": "text/x-python",
   "name": "python",
   "nbconvert_exporter": "python",
   "pygments_lexer": "ipython3",
   "version": "3.11.4"
  },
  "orig_nbformat": 4
 },
 "nbformat": 4,
 "nbformat_minor": 2
}
