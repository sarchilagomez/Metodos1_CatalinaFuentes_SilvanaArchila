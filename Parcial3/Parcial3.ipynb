{
 "cells": [
  {
   "cell_type": "code",
   "execution_count": 23,
   "metadata": {},
   "outputs": [],
   "source": [
    "import numpy as np\n",
    "import matplotlib.pyplot as plt\n",
    "import sympy as sym"
   ]
  },
  {
   "cell_type": "markdown",
   "metadata": {},
   "source": [
    "Parcial #3\n",
    "\n",
    "Catalina Fuentes y Silvana Archila\n"
   ]
  },
  {
   "cell_type": "code",
   "execution_count": 24,
   "metadata": {},
   "outputs": [
    {
     "data": {
      "text/plain": [
       "0.07322199739508203"
      ]
     },
     "execution_count": 24,
     "metadata": {},
     "output_type": "execute_result"
    }
   ],
   "source": [
    "#Genero 2 simbolos reales para X y Y\n",
    "x = sym.Symbol('x',real=True)\n",
    "y = sym.Symbol('y',real=True)\n",
    "\n",
    "\n",
    "#Defino un símbolo complejo Z\n",
    "z = x + (sym.I)*y\n",
    "\n",
    "#Defino constante C\n",
    "W = 114.6\n",
    "q = 3*10**(-4)\n",
    "L = 5\n",
    "k = 9*10**(9)\n",
    "\n",
    "C = ((k**2 * q**4)/(L**4 * W**2))*((np.sqrt(2)/2)+(1/4))**2\n",
    "C"
   ]
  },
  {
   "cell_type": "markdown",
   "metadata": {},
   "source": [
    "Hallando raices complejas"
   ]
  },
  {
   "cell_type": "code",
   "execution_count": 25,
   "metadata": {},
   "outputs": [
    {
     "data": {
      "text/latex": [
       "$\\displaystyle \\left(x + i y\\right)^{6} + 0.073221997395082 \\left(x + i y\\right)^{2} - 0.073221997395082$"
      ],
      "text/plain": [
       "(x + I*y)**6 + 0.073221997395082*(x + I*y)**2 - 0.073221997395082"
      ]
     },
     "execution_count": 25,
     "metadata": {},
     "output_type": "execute_result"
    }
   ],
   "source": [
    "#Calculo función compleja\n",
    "funcion = (z)**6 + C*(z)**2 - C\n",
    "funcion"
   ]
  },
  {
   "cell_type": "code",
   "execution_count": 26,
   "metadata": {},
   "outputs": [
    {
     "data": {
      "text/plain": [
       "[x**6 - 15*x**4*y**2 + 15*x**2*y**4 + 0.073221997395082*x**2 - y**6 - 0.073221997395082*y**2 - 0.073221997395082,\n",
       " 6*x**5*y - 20*x**3*y**3 + 6*x*y**5 + 0.146443994790164*x*y]"
      ]
     },
     "execution_count": 26,
     "metadata": {},
     "output_type": "execute_result"
    }
   ],
   "source": [
    "#Guardo la parte real e imaginaria de la función en una lista\n",
    "F = [sym.re(funcion),sym.im(funcion)]\n",
    "F"
   ]
  },
  {
   "cell_type": "code",
   "execution_count": 27,
   "metadata": {},
   "outputs": [
    {
     "data": {
      "text/latex": [
       "$\\displaystyle \\left[\\begin{matrix}6 x^{5} - 60 x^{3} y^{2} + 30 x y^{4} + 0.146443994790164 x & - 30 x^{4} y + 60 x^{2} y^{3} - 6 y^{5} - 0.146443994790164 y\\\\30 x^{4} y - 60 x^{2} y^{3} + 6 y^{5} + 0.146443994790164 y & 6 x^{5} - 60 x^{3} y^{2} + 30 x y^{4} + 0.146443994790164 x\\end{matrix}\\right]$"
      ],
      "text/plain": [
       "Matrix([\n",
       "[6*x**5 - 60*x**3*y**2 + 30*x*y**4 + 0.146443994790164*x, -30*x**4*y + 60*x**2*y**3 - 6*y**5 - 0.146443994790164*y],\n",
       "[30*x**4*y - 60*x**2*y**3 + 6*y**5 + 0.146443994790164*y,  6*x**5 - 60*x**3*y**2 + 30*x*y**4 + 0.146443994790164*x]])"
      ]
     },
     "execution_count": 27,
     "metadata": {},
     "output_type": "execute_result"
    }
   ],
   "source": [
    "#Hallo el Jacobiano de F\n",
    "def GetJacobian(funcion, variables):\n",
    "    #Miro cantidad de funciones y variables para saber las dimensiones de la Jacobiana\n",
    "    num_funciones = len(funcion)\n",
    "    num_variables = len(variables)\n",
    "    \n",
    "    #Creo matriz de ceros de las dimensiones halladas antes\n",
    "    Jacobiana = sym.Matrix.zeros(num_funciones, num_variables)\n",
    "    \n",
    "    #Hago la jacobiana\n",
    "    for i in range(num_funciones):\n",
    "        for j in range(num_variables):\n",
    "            Jacobiana[i, j] = sym.diff(funcion[i], variables[j])\n",
    "    \n",
    "    return Jacobiana\n",
    "\n",
    "funciones = [F[0], F[1]]\n",
    "variables = [x, y]\n",
    "\n",
    "J = GetJacobian(funciones, variables)\n",
    "J"
   ]
  },
  {
   "cell_type": "code",
   "execution_count": 28,
   "metadata": {},
   "outputs": [
    {
     "data": {
      "text/latex": [
       "$\\displaystyle \\left[\\begin{matrix}\\frac{1 + \\frac{\\left(- 30 x^{4} y + 60 x^{2} y^{3} - 6 y^{5} - 0.146443994790164 y\\right) \\left(30 x^{4} y - 60 x^{2} y^{3} + 6 y^{5} + 0.146443994790164 y\\right)}{\\left(6 x^{5} - 60 x^{3} y^{2} + 30 x y^{4} + 0.146443994790164 x\\right) \\left(6 x^{5} - 60 x^{3} y^{2} + 30 x y^{4} + 0.146443994790164 x - \\frac{\\left(- 30 x^{4} y + 60 x^{2} y^{3} - 6 y^{5} - 0.146443994790164 y\\right) \\left(30 x^{4} y - 60 x^{2} y^{3} + 6 y^{5} + 0.146443994790164 y\\right)}{6 x^{5} - 60 x^{3} y^{2} + 30 x y^{4} + 0.146443994790164 x}\\right)}}{6 x^{5} - 60 x^{3} y^{2} + 30 x y^{4} + 0.146443994790164 x} & - \\frac{- 30 x^{4} y + 60 x^{2} y^{3} - 6 y^{5} - 0.146443994790164 y}{\\left(6 x^{5} - 60 x^{3} y^{2} + 30 x y^{4} + 0.146443994790164 x\\right) \\left(6 x^{5} - 60 x^{3} y^{2} + 30 x y^{4} + 0.146443994790164 x - \\frac{\\left(- 30 x^{4} y + 60 x^{2} y^{3} - 6 y^{5} - 0.146443994790164 y\\right) \\left(30 x^{4} y - 60 x^{2} y^{3} + 6 y^{5} + 0.146443994790164 y\\right)}{6 x^{5} - 60 x^{3} y^{2} + 30 x y^{4} + 0.146443994790164 x}\\right)}\\\\- \\frac{30 x^{4} y - 60 x^{2} y^{3} + 6 y^{5} + 0.146443994790164 y}{\\left(6 x^{5} - 60 x^{3} y^{2} + 30 x y^{4} + 0.146443994790164 x\\right) \\left(6 x^{5} - 60 x^{3} y^{2} + 30 x y^{4} + 0.146443994790164 x - \\frac{\\left(- 30 x^{4} y + 60 x^{2} y^{3} - 6 y^{5} - 0.146443994790164 y\\right) \\left(30 x^{4} y - 60 x^{2} y^{3} + 6 y^{5} + 0.146443994790164 y\\right)}{6 x^{5} - 60 x^{3} y^{2} + 30 x y^{4} + 0.146443994790164 x}\\right)} & \\frac{1}{6 x^{5} - 60 x^{3} y^{2} + 30 x y^{4} + 0.146443994790164 x - \\frac{\\left(- 30 x^{4} y + 60 x^{2} y^{3} - 6 y^{5} - 0.146443994790164 y\\right) \\left(30 x^{4} y - 60 x^{2} y^{3} + 6 y^{5} + 0.146443994790164 y\\right)}{6 x^{5} - 60 x^{3} y^{2} + 30 x y^{4} + 0.146443994790164 x}}\\end{matrix}\\right]$"
      ],
      "text/plain": [
       "Matrix([\n",
       "[(1 + (-30*x**4*y + 60*x**2*y**3 - 6*y**5 - 0.146443994790164*y)*(30*x**4*y - 60*x**2*y**3 + 6*y**5 + 0.146443994790164*y)/((6*x**5 - 60*x**3*y**2 + 30*x*y**4 + 0.146443994790164*x)*(6*x**5 - 60*x**3*y**2 + 30*x*y**4 + 0.146443994790164*x - (-30*x**4*y + 60*x**2*y**3 - 6*y**5 - 0.146443994790164*y)*(30*x**4*y - 60*x**2*y**3 + 6*y**5 + 0.146443994790164*y)/(6*x**5 - 60*x**3*y**2 + 30*x*y**4 + 0.146443994790164*x))))/(6*x**5 - 60*x**3*y**2 + 30*x*y**4 + 0.146443994790164*x), -(-30*x**4*y + 60*x**2*y**3 - 6*y**5 - 0.146443994790164*y)/((6*x**5 - 60*x**3*y**2 + 30*x*y**4 + 0.146443994790164*x)*(6*x**5 - 60*x**3*y**2 + 30*x*y**4 + 0.146443994790164*x - (-30*x**4*y + 60*x**2*y**3 - 6*y**5 - 0.146443994790164*y)*(30*x**4*y - 60*x**2*y**3 + 6*y**5 + 0.146443994790164*y)/(6*x**5 - 60*x**3*y**2 + 30*x*y**4 + 0.146443994790164*x)))],\n",
       "[                                                                                                                          -(30*x**4*y - 60*x**2*y**3 + 6*y**5 + 0.146443994790164*y)/((6*x**5 - 60*x**3*y**2 + 30*x*y**4 + 0.146443994790164*x)*(6*x**5 - 60*x**3*y**2 + 30*x*y**4 + 0.146443994790164*x - (-30*x**4*y + 60*x**2*y**3 - 6*y**5 - 0.146443994790164*y)*(30*x**4*y - 60*x**2*y**3 + 6*y**5 + 0.146443994790164*y)/(6*x**5 - 60*x**3*y**2 + 30*x*y**4 + 0.146443994790164*x))),                                                                                                                       1/(6*x**5 - 60*x**3*y**2 + 30*x*y**4 + 0.146443994790164*x - (-30*x**4*y + 60*x**2*y**3 - 6*y**5 - 0.146443994790164*y)*(30*x**4*y - 60*x**2*y**3 + 6*y**5 + 0.146443994790164*y)/(6*x**5 - 60*x**3*y**2 + 30*x*y**4 + 0.146443994790164*x))]])"
      ]
     },
     "execution_count": 28,
     "metadata": {},
     "output_type": "execute_result"
    }
   ],
   "source": [
    "#Hallo inverso del jacobiano\n",
    "InvJ = J.inv(method='LU')\n",
    "InvJ"
   ]
  },
  {
   "cell_type": "code",
   "execution_count": 29,
   "metadata": {},
   "outputs": [],
   "source": [
    "#Convierto función a Numpy\n",
    "Fn = sym.lambdify([x,y],F,'numpy')\n",
    "\n",
    "#Convierto Jacobiano a Numpy\n",
    "Jn = sym.lambdify([x,y],J,'numpy')\n",
    "\n",
    "#Convierto el inverso del Jacobiano a Numpy\n",
    "IJn = sym.lambdify([x,y],InvJ,'numpy')"
   ]
  },
  {
   "cell_type": "code",
   "execution_count": 30,
   "metadata": {},
   "outputs": [],
   "source": [
    "#Realizo método de Newton Raphson\n",
    "def NewtonRaphson(z,Fn,Jn,itmax=100,precision=1e-9):\n",
    "    \n",
    "    error = 1\n",
    "    it = 0\n",
    "    \n",
    "    while error > precision and it < itmax:\n",
    "        \n",
    "        IFn = Fn(z[0],z[1])\n",
    "        IJn = Jn(z[0],z[1])\n",
    "        \n",
    "        z1 = z - np.dot(IJn,IFn)\n",
    "        \n",
    "        error = np.max( np.abs(z1-z) )\n",
    "        \n",
    "        z = z1\n",
    "        it +=1\n",
    "        \n",
    "    return z"
   ]
  },
  {
   "cell_type": "code",
   "execution_count": 41,
   "metadata": {},
   "outputs": [
    {
     "name": "stdout",
     "output_type": "stream",
     "text": [
      "Raices reales:\n"
     ]
    },
    {
     "data": {
      "text/plain": [
       "[array([-0.60037119,  0.        ]), array([0.60037119, 0.        ])]"
      ]
     },
     "execution_count": 41,
     "metadata": {},
     "output_type": "execute_result"
    }
   ],
   "source": [
    "#Hallo raices\n",
    "z0 = np.array([-1,0])\n",
    "sol1 = NewtonRaphson(z0,Fn,IJn)\n",
    "\n",
    "z1 = np.array([1,0])\n",
    "sol2 = NewtonRaphson(z1,Fn,IJn)\n",
    "\n",
    "z2 = np.array([1,-2])\n",
    "sol3 = NewtonRaphson(z2,Fn,IJn)\n",
    "\n",
    "z3 = np.array([-1,2])\n",
    "sol4 = NewtonRaphson(z3,Fn,IJn)\n",
    "\n",
    "z4 = np.array([1,2])\n",
    "sol5 = NewtonRaphson(z4,Fn,IJn)\n",
    "\n",
    "z5 = np.array([-1,-2])\n",
    "sol6 = NewtonRaphson(z5,Fn,IJn)\n",
    "\n",
    "Reales = [sol1,sol2]\n",
    "print(\"Raices reales:\")\n",
    "Reales\n"
   ]
  },
  {
   "cell_type": "code",
   "execution_count": 42,
   "metadata": {},
   "outputs": [
    {
     "name": "stdout",
     "output_type": "stream",
     "text": [
      "Raices complejas:\n"
     ]
    },
    {
     "data": {
      "text/plain": [
       "[array([ 0.36775746, -0.56166568]),\n",
       " array([-0.36775746,  0.56166568]),\n",
       " array([0.36775746, 0.56166568]),\n",
       " array([-0.36775746, -0.56166568])]"
      ]
     },
     "execution_count": 42,
     "metadata": {},
     "output_type": "execute_result"
    }
   ],
   "source": [
    "Complejas = [sol3,sol4,sol5,sol6]\n",
    "print(\"Raices complejas:\")\n",
    "Complejas "
   ]
  },
  {
   "cell_type": "code",
   "execution_count": 43,
   "metadata": {},
   "outputs": [
    {
     "data": {
      "text/plain": [
       "(-36.89648713980008, 36.89648713980008)"
      ]
     },
     "execution_count": 43,
     "metadata": {},
     "output_type": "execute_result"
    }
   ],
   "source": [
    "#Hallando el ángulo\n",
    "angulo1 = np.arcsin(sol1[0])\n",
    "angulo2 = np.arcsin(sol2[0])\n",
    "\n",
    "#Pasándolos a grados\n",
    "angulo1 = angulo1*180/np.pi\n",
    "angulo2 = angulo2*180/np.pi\n",
    "\n",
    "angulo1, angulo2\n"
   ]
  },
  {
   "cell_type": "markdown",
   "metadata": {},
   "source": [
    "Hallo raices en el intervalo 0 a 2pi"
   ]
  },
  {
   "cell_type": "code",
   "execution_count": 31,
   "metadata": {},
   "outputs": [
    {
     "data": {
      "text/plain": [
       "'intx = np.linspace(0, 2*np.pi, 10)\\ninty = np.linspace(0, 2*np.pi, 8)\\n\\n# Realizar la búsqueda de raíces automáticamente en la región de muestreo\\nroots = []\\nroots_reals = []\\nfor i in intx:\\n    for j in inty:\\n        z0 = np.array([i, j])\\n        zsol = NewtonRaphson(z0, Fn, IJn)\\n        zsol =  np.round(zsol,5)\\n        roots.append(zsol)\\n        \\n# Usamos np.unique para eliminar raíces duplicadas\\nunique_roots_array = np.unique(roots, axis=0)\\nunique_roots_array\\n'"
      ]
     },
     "execution_count": 31,
     "metadata": {},
     "output_type": "execute_result"
    }
   ],
   "source": [
    "\"\"\"intx = np.linspace(0, 2*np.pi, 10)\n",
    "inty = np.linspace(0, 2*np.pi, 8)\n",
    "\n",
    "# Realizar la búsqueda de raíces automáticamente en la región de muestreo\n",
    "roots = []\n",
    "roots_reals = []\n",
    "for i in intx:\n",
    "    for j in inty:\n",
    "        z0 = np.array([i, j])\n",
    "        zsol = NewtonRaphson(z0, Fn, IJn)\n",
    "        zsol =  np.round(zsol,5)\n",
    "        roots.append(zsol)\n",
    "        \n",
    "# Usamos np.unique para eliminar raíces duplicadas\n",
    "unique_roots_array = np.unique(roots, axis=0)\n",
    "unique_roots_array\n",
    "\"\"\""
   ]
  },
  {
   "cell_type": "code",
   "execution_count": 32,
   "metadata": {},
   "outputs": [
    {
     "data": {
      "text/plain": [
       "'\\n#Raices complejas \\nz0 = np.array([1,-2])\\nsol1 = NewtonRaphson(z0,Fn,IJn)\\n\\nz1 = np.array([1,2])\\nsol2 = NewtonRaphson(z1,Fn,IJn)\\n\\nz2 = np.array([3,2])\\nsol3 = NewtonRaphson(z2,Fn,IJn)\\n\\nz3 = np.array([3,-2])\\nsol4 = NewtonRaphson(z3,Fn,IJn)\\n\\nComplejas = [sol1,sol2,sol3,sol4]\\nprint(\"Raices complejas:\")\\nComplejas\\n'"
      ]
     },
     "execution_count": 32,
     "metadata": {},
     "output_type": "execute_result"
    }
   ],
   "source": [
    "\"\"\"\n",
    "#Raices complejas \n",
    "z0 = np.array([1,-2])\n",
    "sol1 = NewtonRaphson(z0,Fn,IJn)\n",
    "\n",
    "z1 = np.array([1,2])\n",
    "sol2 = NewtonRaphson(z1,Fn,IJn)\n",
    "\n",
    "z2 = np.array([3,2])\n",
    "sol3 = NewtonRaphson(z2,Fn,IJn)\n",
    "\n",
    "z3 = np.array([3,-2])\n",
    "sol4 = NewtonRaphson(z3,Fn,IJn)\n",
    "\n",
    "Complejas = [sol1,sol2,sol3,sol4]\n",
    "print(\"Raices complejas:\")\n",
    "Complejas\n",
    "\"\"\""
   ]
  },
  {
   "cell_type": "code",
   "execution_count": 33,
   "metadata": {},
   "outputs": [
    {
     "data": {
      "text/plain": [
       "'\\nz4 = np.array([2.,-2.])\\nsol5 = NewtonRaphson(z4,Fn,IJn)\\nsol5[1] = round(sol5[1],9)\\n\\nz5 = np.array([1.,1.])\\nsol6 = NewtonRaphson(z5,Fn,IJn)\\nsol6[1] = round(sol6[1],9)\\n\\nReales = [sol5,sol6]\\nprint(\"Raices reales:\")\\nReales\\n'"
      ]
     },
     "execution_count": 33,
     "metadata": {},
     "output_type": "execute_result"
    }
   ],
   "source": [
    "#Raices reales (componente imaginaria igual a 0, por lo que son raices reales)\n",
    "\"\"\"\n",
    "z4 = np.array([2.,-2.])\n",
    "sol5 = NewtonRaphson(z4,Fn,IJn)\n",
    "sol5[1] = round(sol5[1],9)\n",
    "\n",
    "z5 = np.array([1.,1.])\n",
    "sol6 = NewtonRaphson(z5,Fn,IJn)\n",
    "sol6[1] = round(sol6[1],9)\n",
    "\n",
    "Reales = [sol5,sol6]\n",
    "print(\"Raices reales:\")\n",
    "Reales\n",
    "\"\"\""
   ]
  }
 ],
 "metadata": {
  "kernelspec": {
   "display_name": "Python 3",
   "language": "python",
   "name": "python3"
  },
  "language_info": {
   "codemirror_mode": {
    "name": "ipython",
    "version": 3
   },
   "file_extension": ".py",
   "mimetype": "text/x-python",
   "name": "python",
   "nbconvert_exporter": "python",
   "pygments_lexer": "ipython3",
   "version": "3.11.4"
  },
  "orig_nbformat": 4
 },
 "nbformat": 4,
 "nbformat_minor": 2
}
