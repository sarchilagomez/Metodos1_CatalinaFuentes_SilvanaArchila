{
 "cells": [
  {
   "cell_type": "markdown",
   "metadata": {},
   "source": [
    "Ejercicios Parcial 3 - Métodos Computacionales 1\n",
    "\n",
    "Catalina Fuentes y Silvana Archila"
   ]
  },
  {
   "cell_type": "markdown",
   "metadata": {},
   "source": [
    "Aprendizaje automático\n",
    "\n",
    "Ejercico #3: Descenso gradiente "
   ]
  },
  {
   "cell_type": "code",
   "execution_count": 86,
   "metadata": {},
   "outputs": [],
   "source": [
    "import numpy as np\n",
    "import matplotlib.pyplot as plt"
   ]
  },
  {
   "cell_type": "markdown",
   "metadata": {},
   "source": [
    "No es posible minimizar la función dada con el método tradicional de descenso de gradiente, pues la función no es diferenciable en todos sus puntos (especialmente en el mínimo). Sin embargo, podemos hacer una variación del método donde utilizamos los puntos donde la función sí es diferenciable (allí, su derivada es igual a 1 o -1 dependiendo de la dirección del gradiente). "
   ]
  },
  {
   "cell_type": "code",
   "execution_count": 90,
   "metadata": {},
   "outputs": [
    {
     "name": "stdout",
     "output_type": "stream",
     "text": [
      "El valor mínimo de la función se encuentra en x = 2.0\n",
      "El valor mínimo de la función es f(x) = 0.0\n"
     ]
    }
   ],
   "source": [
    "#MÉTODO ALTERNO DE DESCENSO DE GRADIENTE \n",
    "#Función a minimizar \n",
    "def funcion(x):\n",
    "    return np.abs(x - 2)\n",
    "\n",
    "#Derivada\n",
    "def subgradiente(x):\n",
    "    if x > 2:\n",
    "        return 1\n",
    "    elif x < 2:\n",
    "        return -1\n",
    "    else:\n",
    "        return np.random.uniform(-1, 1) #Cuando se hace discontínua, elijo un subgradiente aleatorio en [-1, 1]\n",
    "\n",
    "x = np.random.rand() \n",
    "\n",
    "#Realizando descenso gradiente \n",
    "def Minimizer(x, tasa_aprendizaje=0.1, iteraciones=1000):\n",
    "    for i in range(iteraciones):\n",
    "        gradiente = subgradiente(x)\n",
    "        x = x - tasa_aprendizaje * gradiente\n",
    "        x = round(x,1)\n",
    "    return x\n",
    "    \n",
    "X = Minimizer(x)\n",
    "print(\"El valor mínimo de la función se encuentra en x =\", X)\n",
    "print(\"El valor mínimo de la función es f(x) =\", funcion(X))"
   ]
  }
 ],
 "metadata": {
  "kernelspec": {
   "display_name": "Python 3",
   "language": "python",
   "name": "python3"
  },
  "language_info": {
   "codemirror_mode": {
    "name": "ipython",
    "version": 3
   },
   "file_extension": ".py",
   "mimetype": "text/x-python",
   "name": "python",
   "nbconvert_exporter": "python",
   "pygments_lexer": "ipython3",
   "version": "3.11.4"
  },
  "orig_nbformat": 4
 },
 "nbformat": 4,
 "nbformat_minor": 2
}
