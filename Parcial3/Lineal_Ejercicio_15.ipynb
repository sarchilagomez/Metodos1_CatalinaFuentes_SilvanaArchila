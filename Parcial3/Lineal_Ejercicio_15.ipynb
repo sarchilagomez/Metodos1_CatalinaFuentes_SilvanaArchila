{
 "cells": [
  {
   "cell_type": "code",
   "execution_count": 75,
   "metadata": {},
   "outputs": [],
   "source": [
    "import sympy as sym \n",
    "import numpy as np\n",
    "from sympy.matrices import Matrix\n",
    "from sympy import re, im, I, E"
   ]
  },
  {
   "cell_type": "markdown",
   "metadata": {},
   "source": [
    "Algebra lineal\n",
    "\n",
    "Ejercico #15: Group theory, álgebra de lie y matrices de pauli"
   ]
  },
  {
   "cell_type": "code",
   "execution_count": 76,
   "metadata": {},
   "outputs": [],
   "source": [
    "#Solicitando al usuario matrices que desea conmutar \n",
    "a = input(\"Ingrese la primera matriz que desea conmutar (X, Y o Z, en mayúscula)\")\n",
    "b = input(\"Ingrese la segunda matriz que desea conmutar (X, Y o Z, en mayúscula)\")\n",
    "\n",
    "Ox = Matrix([[0,1], [1,0]])\n",
    "Oy = Matrix([[0,-I], [I,0]])\n",
    "Oz = Matrix([[1,0], [0,-1]])\n",
    "\n"
   ]
  },
  {
   "cell_type": "code",
   "execution_count": 77,
   "metadata": {},
   "outputs": [
    {
     "name": "stdout",
     "output_type": "stream",
     "text": [
      "La conmutación X Y hallada con álgebra de lie es:\n"
     ]
    },
    {
     "data": {
      "text/latex": [
       "$\\displaystyle \\left[\\begin{matrix}2 i & 0\\\\0 & - 2 i\\end{matrix}\\right]$"
      ],
      "text/plain": [
       "Matrix([\n",
       "[2*I,    0],\n",
       "[  0, -2*I]])"
      ]
     },
     "execution_count": 77,
     "metadata": {},
     "output_type": "execute_result"
    }
   ],
   "source": [
    "#Hallando conmutación por álgebra de Lie\n",
    "if a==\"X\" and b==\"Y\":\n",
    "    levi = 1\n",
    "    Matriz1 = 2*I*levi*Oz\n",
    "\n",
    "elif a==\"Y\" and b==\"Z\":\n",
    "    levi = 1\n",
    "    Matriz1 = 2*I*levi*Ox\n",
    "\n",
    "elif a==\"Z\" and b==\"X\":\n",
    "    levi = 1\n",
    "    Matriz1 = 2*I*levi*Oy\n",
    "\n",
    "elif a==\"Z\" and b ==\"Y\":\n",
    "    levi = -1\n",
    "    Matriz1 = 2*I*levi*Ox\n",
    "\n",
    "elif a==\"X\" and b==\"Z\":\n",
    "    levi = -1\n",
    "    Matriz1 = 2*I*levi*Oy\n",
    "\n",
    "elif a==\"Y\" and b==\"X\":\n",
    "    levi = -1\n",
    "    Matriz1 = 2*I*levi*Oz\n",
    "\n",
    "else:\n",
    "    Matriz1 = 0\n",
    "\n",
    "\n",
    "print(\"La conmutación\", a,b, \"hallada con álgebra de lie es:\")\n",
    "Matriz1"
   ]
  },
  {
   "cell_type": "code",
   "execution_count": 78,
   "metadata": {},
   "outputs": [
    {
     "name": "stdout",
     "output_type": "stream",
     "text": [
      "La conmutación X Y hallada con Conmutador es:\n"
     ]
    },
    {
     "data": {
      "text/latex": [
       "$\\displaystyle \\left[\\begin{matrix}2 i & 0\\\\0 & - 2 i\\end{matrix}\\right]$"
      ],
      "text/plain": [
       "Matrix([\n",
       "[2*I,    0],\n",
       "[  0, -2*I]])"
      ]
     },
     "execution_count": 78,
     "metadata": {},
     "output_type": "execute_result"
    }
   ],
   "source": [
    "#Hallando multiplicación por conmutador\n",
    "\n",
    "if a==\"X\" and b==\"Y\":\n",
    "    Matriz2 = (Ox*Oy) - (Oy*Ox)\n",
    "\n",
    "elif a==\"Y\" and b==\"Z\":\n",
    "    Matriz2 = (Oy*Oz) - (Oz*Oy)\n",
    "\n",
    "elif a==\"Z\" and b==\"X\":\n",
    "    Matriz2 = (Oz*Ox) - (Ox*Oz)\n",
    "\n",
    "elif a==\"Z\" and b ==\"Y\":\n",
    "    Matriz2 = (Oz*Oy) - (Oy*Oz)\n",
    "\n",
    "elif a==\"X\" and b==\"Z\":\n",
    "    Matriz2 = (Ox*Oz) - (Oz*Ox)\n",
    "\n",
    "elif a==\"Y\" and b==\"X\":\n",
    "    Matriz2 = (Oy*Ox) - (Ox*Oy)\n",
    "\n",
    "else:\n",
    "    Matriz2 = 0 \n",
    "\n",
    "print(\"La conmutación\", a,b, \"hallada con Conmutador es:\")\n",
    "Matriz2"
   ]
  },
  {
   "cell_type": "markdown",
   "metadata": {},
   "source": [
    "Se comprueba que el álgebra de lie del grupo está dada por [Oi, Oj] = 2i(Eijk)(Ok), pues la conmutación entre las matrices de Pauli tiene el mismo resultado si es realiza a través del conmutador [A,B] = AB - BA o si se realiza a través del álgebra de lie, utilizando [Oi, Oj] = 2i(Eijk)(Ok) "
   ]
  }
 ],
 "metadata": {
  "kernelspec": {
   "display_name": "Python 3",
   "language": "python",
   "name": "python3"
  },
  "language_info": {
   "codemirror_mode": {
    "name": "ipython",
    "version": 3
   },
   "file_extension": ".py",
   "mimetype": "text/x-python",
   "name": "python",
   "nbconvert_exporter": "python",
   "pygments_lexer": "ipython3",
   "version": "3.11.4"
  },
  "orig_nbformat": 4
 },
 "nbformat": 4,
 "nbformat_minor": 2
}
