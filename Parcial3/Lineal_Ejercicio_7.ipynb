{
 "cells": [
  {
   "cell_type": "markdown",
   "metadata": {},
   "source": [
    "Ejercicio 7 - Successive over-relaxation (SOR)"
   ]
  },
  {
   "cell_type": "code",
   "execution_count": 135,
   "metadata": {},
   "outputs": [],
   "source": [
    "import numpy as np"
   ]
  },
  {
   "cell_type": "code",
   "execution_count": 136,
   "metadata": {},
   "outputs": [],
   "source": [
    "A = np.array([[3., -1., -1.],\n",
    "              [-1., 3., 1.],\n",
    "              [2., 1., 4.]])\n",
    "b = np.array([1., 3., 7.])\n",
    "w = 1.5\n",
    "x0 = np.array([0., 0., 0.])"
   ]
  },
  {
   "cell_type": "code",
   "execution_count": 137,
   "metadata": {},
   "outputs": [],
   "source": [
    "def SOR(A,b, omega, x0,itmax=1000,tolerancia=1e-14):\n",
    "    \n",
    "    x = x0.copy()\n",
    "    u = x.copy()\n",
    "    sumk = x.copy()\n",
    "    \n",
    "    residuo = np.linalg.norm( np.dot(A,x) - b)\n",
    "    \n",
    "    it = 0\n",
    "    \n",
    "    while residuo >= tolerancia and it < itmax:\n",
    "        \n",
    "        \n",
    "        u[:] = 0\n",
    "        sumk[:] = 0.\n",
    "        \n",
    "        for i in range(A.shape[0]):\n",
    "            for j in range(A.shape[1]):\n",
    "                if i != j:\n",
    "                    sumk[i] += A[i,j]*x[j]\n",
    "            #print(sumk)\n",
    "        \n",
    "            u[i] = omega*(b[i] - sumk[i])/A[i,i] + (1-omega)*x[i]\n",
    "        x = u.copy()\n",
    "        \n",
    "        #print(x,residuo)\n",
    "        # Norma infinita\n",
    "        residuo = np.max(np.abs(np.dot(A,x) - b))\n",
    "        # Norma griega\n",
    "        #residuo = np.linalg.norm( np.dot(A,x) - b)\n",
    "        \n",
    "        it += 1\n",
    "        \n",
    "        if residuo > 1000:\n",
    "            return x,1000\n",
    "        \n",
    "    return x,it"
   ]
  },
  {
   "cell_type": "code",
   "execution_count": 138,
   "metadata": {},
   "outputs": [
    {
     "name": "stdout",
     "output_type": "stream",
     "text": [
      "La solución al sistema de ecuaciones es: [1. 1. 1.]\n"
     ]
    }
   ],
   "source": [
    "print(f\"La solución al sistema de ecuaciones es: {SOR(A, b, w, x0)[0]}\")"
   ]
  },
  {
   "cell_type": "code",
   "execution_count": 139,
   "metadata": {},
   "outputs": [],
   "source": [
    "def ParametroRelajacionMinimo(A,b,x0):\n",
    "    minimo = 1000\n",
    "    mejor_omega = 0\n",
    "    for i in range(101,200):\n",
    "        omega = i/100\n",
    "        iteraciones = SOR(A, b, omega, x0)[1]\n",
    "        if iteraciones < minimo:\n",
    "            minimo = iteraciones\n",
    "            mejor_omega = omega\n",
    "\n",
    "    return mejor_omega\n",
    "\n"
   ]
  },
  {
   "cell_type": "code",
   "execution_count": 140,
   "metadata": {},
   "outputs": [
    {
     "name": "stdout",
     "output_type": "stream",
     "text": [
      "El parámetro de relajación que minimiza el número de iteraciones necesarias para resolver el sistema de ecuaciones es: 1.02\n"
     ]
    }
   ],
   "source": [
    "print(f\"El parámetro de relajación que minimiza el número de iteraciones necesarias para resolver el sistema de ecuaciones es: {ParametroRelajacionMinimo(A, b, x0)}\")"
   ]
  }
 ],
 "metadata": {
  "kernelspec": {
   "display_name": "Python 3",
   "language": "python",
   "name": "python3"
  },
  "language_info": {
   "codemirror_mode": {
    "name": "ipython",
    "version": 3
   },
   "file_extension": ".py",
   "mimetype": "text/x-python",
   "name": "python",
   "nbconvert_exporter": "python",
   "pygments_lexer": "ipython3",
   "version": "3.11.4"
  }
 },
 "nbformat": 4,
 "nbformat_minor": 2
}
