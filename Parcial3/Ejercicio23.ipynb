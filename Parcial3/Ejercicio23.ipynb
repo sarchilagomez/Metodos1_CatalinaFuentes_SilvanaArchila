{
 "cells": [
  {
   "cell_type": "markdown",
   "metadata": {},
   "source": [
    "Ejercicio 23"
   ]
  },
  {
   "cell_type": "code",
   "execution_count": 28,
   "metadata": {},
   "outputs": [],
   "source": [
    "import numpy as np"
   ]
  },
  {
   "cell_type": "markdown",
   "metadata": {},
   "source": [
    "a)"
   ]
  },
  {
   "cell_type": "code",
   "execution_count": 29,
   "metadata": {},
   "outputs": [],
   "source": [
    "A = np.array([[0.2, 0.1, 1.0, 1.0, 0.0],\n",
    "              [0.1, 4.0, -1.0, 1.0, -1.0],\n",
    "              [1.0, -1.0, 60.0, 0.0, -2.0],\n",
    "              [1.0, 1.0, 0.0, 8.0, 4.0],\n",
    "              [0.0, -1.0, -2.0, 4.0, 700.0]])\n",
    "\n",
    "b = np.array([1.0, 2.0, 3.0, 4.0, 5.0])"
   ]
  },
  {
   "cell_type": "markdown",
   "metadata": {},
   "source": [
    "b)"
   ]
  },
  {
   "cell_type": "code",
   "execution_count": 30,
   "metadata": {},
   "outputs": [],
   "source": [
    "def DescensoConjugado(A, b, x0, e=0.01):\n",
    "    r0 = np.dot(A, x0) - b\n",
    "    p0 = -r0\n",
    "    k = 0\n",
    "\n",
    "\n",
    "\n",
    "    while np.max(np.abs(r0)) > e:\n",
    "        r0t = r0.T\n",
    "        p0t = p0.T\n",
    "        alfa = -np.dot(r0t, p0)/np.dot((np.dot(p0t, A)), p0)\n",
    "        x0 = x0 + np.dot(alfa, p0)\n",
    "        r0 = np.dot(A, x0) - b\n",
    "        r0t = r0.T\n",
    "        beta = np.dot(np.dot(r0t, A), p0)/np.dot(np.dot(p0t, A), p0)\n",
    "        p0 = -r0+np.dot(beta, p0)\n",
    "        k = k+1\n",
    "\n",
    "    return x0, k"
   ]
  },
  {
   "cell_type": "markdown",
   "metadata": {},
   "source": [
    "c)"
   ]
  },
  {
   "cell_type": "code",
   "execution_count": 31,
   "metadata": {},
   "outputs": [
    {
     "name": "stdout",
     "output_type": "stream",
     "text": [
      "La solución al sistema es: [ 7.85971308  0.42292641 -0.07359224 -0.54064302  0.01062616]\n",
      "El algoritmo converge en: 5 iteraciones\n"
     ]
    }
   ],
   "source": [
    "x0 = np.array([0, 0, 0, 0, 0])\n",
    "print(f\"La solución al sistema es: {DescensoConjugado(A, b, x0)[0]}\")\n",
    "print(f\"El algoritmo converge en: {DescensoConjugado(A, b, x0)[1]} iteraciones\")"
   ]
  }
 ],
 "metadata": {
  "kernelspec": {
   "display_name": "Python 3",
   "language": "python",
   "name": "python3"
  },
  "language_info": {
   "codemirror_mode": {
    "name": "ipython",
    "version": 3
   },
   "file_extension": ".py",
   "mimetype": "text/x-python",
   "name": "python",
   "nbconvert_exporter": "python",
   "pygments_lexer": "ipython3",
   "version": "3.11.4"
  }
 },
 "nbformat": 4,
 "nbformat_minor": 2
}
