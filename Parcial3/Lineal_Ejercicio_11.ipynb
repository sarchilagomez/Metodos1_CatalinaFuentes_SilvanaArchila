{
 "cells": [
  {
   "cell_type": "code",
   "execution_count": 119,
   "metadata": {},
   "outputs": [],
   "source": [
    "import numpy as np"
   ]
  },
  {
   "cell_type": "markdown",
   "metadata": {},
   "source": [
    "Ejercicios Parcial 3 - Métodos Computacionales 1\n",
    "\n",
    "Catalina Fuentes y Silvana Archila"
   ]
  },
  {
   "cell_type": "markdown",
   "metadata": {},
   "source": [
    "Algebra lineal\n",
    "\n",
    "Ejercico #11: Minimo valor propio"
   ]
  },
  {
   "cell_type": "code",
   "execution_count": 120,
   "metadata": {},
   "outputs": [
    {
     "name": "stdout",
     "output_type": "stream",
     "text": [
      "El valor del estado base E0 es: 1.0\n",
      "El vector propio es: [ 0.40824829 -0.40824829 -0.81649658]\n"
     ]
    }
   ],
   "source": [
    "M = np.array([[1,2,-1], [1,0,1], [4,-4,5]])\n",
    "vector_inicial = np.array([1,1,1])\n",
    "InvM =  np.linalg.inv(M)\n",
    "\n",
    "#Hallo reciproco del valor propio (1/valor propio)\n",
    "def metodo_potencia_mayor(InvM, vector_inicial, it = 100):\n",
    "    #normalizo vector inicial\n",
    "    vector = -1*vector_inicial/np.sqrt(np.matmul(vector_inicial,vector_inicial))\n",
    "\n",
    "    #itero\n",
    "    for i in range(it):\n",
    "        vector = np.matmul(InvM,vector)\n",
    "        vector = vector/np.sqrt(np.matmul(vector,vector))\n",
    "\n",
    "    #saco cociente de rayleigh\n",
    "    Z = np.matmul(vector, InvM)\n",
    "    reciproco_valor_propio= np.matmul(Z, vector)\n",
    "\n",
    "    return reciproco_valor_propio, vector\n",
    "\n",
    "#Hallo valor propio\n",
    "reciproco_valor_propio, vector = metodo_potencia_mayor(InvM,vector_inicial)\n",
    "valor_propio = round(1/reciproco_valor_propio,10)\n",
    "\n",
    "print(\"El valor del estado base E0 es:\", valor_propio)\n",
    "print(\"El vector propio es:\", vector)\n"
   ]
  }
 ],
 "metadata": {
  "kernelspec": {
   "display_name": "Python 3",
   "language": "python",
   "name": "python3"
  },
  "language_info": {
   "codemirror_mode": {
    "name": "ipython",
    "version": 3
   },
   "file_extension": ".py",
   "mimetype": "text/x-python",
   "name": "python",
   "nbconvert_exporter": "python",
   "pygments_lexer": "ipython3",
   "version": "3.11.4"
  },
  "orig_nbformat": 4
 },
 "nbformat": 4,
 "nbformat_minor": 2
}
